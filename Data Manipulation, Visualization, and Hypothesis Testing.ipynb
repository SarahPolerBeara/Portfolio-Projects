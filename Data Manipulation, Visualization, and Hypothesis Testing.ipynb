{
 "cells": [
  {
   "cell_type": "markdown",
   "id": "7fcb608e",
   "metadata": {},
   "source": [
    "Background: Yulu is India’s leading micro-mobility service provider, which offers unique vehicles for the daily commute. They want to understand the factors affecting the demand for these shared electric cycles in the Indian market.\n",
    "\n",
    "This notebook will be to do basic manipulations, to visualize the data and to test whether the type of day (a work day or a weekend/holiday) has an affect on the count of bike rentals.\n",
    "\n",
    "Source: https://www.kaggle.com/datasets/ranitsarkar01/yulu-bike-sharing-data"
   ]
  },
  {
   "cell_type": "markdown",
   "id": "ad2850c5",
   "metadata": {},
   "source": [
    "**Column Profiling:**\n",
    "\n",
    "datetime: datetime\n",
    "\n",
    "season: season (1: spring, 2: summer, 3: fall, 4: winter)\n",
    "\n",
    "holiday: whether day is a holiday or not\n",
    "\n",
    "workingday: if day is neither weekend nor holiday is 1, otherwise is 0.\n",
    "\n",
    "weather: 1: Clear, Few clouds, partly cloudy, partly cloudy 2: Mist + Cloudy, Mist + Broken clouds, Mist + Few clouds, Mist 3: Light Snow, Light Rain + Thunderstorm + Scattered clouds, Light Rain + Scattered clouds 4: Heavy Rain + Ice Pallets + Thunderstorm + Mist, Snow + Fog\n",
    "\n",
    "temp: temperature in Celsius\n",
    "\n",
    "atemp: feeling temperature in Celsius\n",
    "\n",
    "humidity: humidity\n",
    "\n",
    "windspeed: wind speed\n",
    "\n",
    "casual: count of casual users\n",
    "\n",
    "registered: count of registered users\n",
    "\n",
    "count: count of total rental bikes including both casual and registered"
   ]
  },
  {
   "cell_type": "code",
   "execution_count": 132,
   "id": "d4d44b5a",
   "metadata": {},
   "outputs": [],
   "source": [
    "#import packages\n",
    "import numpy as np\n",
    "import pandas as pd\n",
    "import seaborn as sns\n",
    "import scipy.stats as stats\n",
    "import matplotlib.pyplot as plt\n",
    "import math\n",
    "import random\n",
    "from datetime import datetime"
   ]
  },
  {
   "cell_type": "code",
   "execution_count": 2,
   "id": "f8d59a84",
   "metadata": {},
   "outputs": [],
   "source": [
    "#import data\n",
    "\n",
    "df = pd.read_csv('yulu_bike_sharing_dataset.csv')"
   ]
  },
  {
   "cell_type": "markdown",
   "id": "5a7fba8a",
   "metadata": {},
   "source": [
    "# EDA & Manipulations"
   ]
  },
  {
   "cell_type": "code",
   "execution_count": 3,
   "id": "702aa395",
   "metadata": {
    "scrolled": false
   },
   "outputs": [
    {
     "data": {
      "text/html": [
       "<div>\n",
       "<style scoped>\n",
       "    .dataframe tbody tr th:only-of-type {\n",
       "        vertical-align: middle;\n",
       "    }\n",
       "\n",
       "    .dataframe tbody tr th {\n",
       "        vertical-align: top;\n",
       "    }\n",
       "\n",
       "    .dataframe thead th {\n",
       "        text-align: right;\n",
       "    }\n",
       "</style>\n",
       "<table border=\"1\" class=\"dataframe\">\n",
       "  <thead>\n",
       "    <tr style=\"text-align: right;\">\n",
       "      <th></th>\n",
       "      <th>datetime</th>\n",
       "      <th>season</th>\n",
       "      <th>holiday</th>\n",
       "      <th>workingday</th>\n",
       "      <th>weather</th>\n",
       "      <th>temp</th>\n",
       "      <th>atemp</th>\n",
       "      <th>humidity</th>\n",
       "      <th>windspeed</th>\n",
       "      <th>casual</th>\n",
       "      <th>registered</th>\n",
       "      <th>count</th>\n",
       "    </tr>\n",
       "  </thead>\n",
       "  <tbody>\n",
       "    <tr>\n",
       "      <th>0</th>\n",
       "      <td>2011-01-01 00:00:00</td>\n",
       "      <td>1</td>\n",
       "      <td>0</td>\n",
       "      <td>0</td>\n",
       "      <td>1</td>\n",
       "      <td>9.84</td>\n",
       "      <td>14.395</td>\n",
       "      <td>81</td>\n",
       "      <td>0.0</td>\n",
       "      <td>3</td>\n",
       "      <td>13</td>\n",
       "      <td>16</td>\n",
       "    </tr>\n",
       "    <tr>\n",
       "      <th>1</th>\n",
       "      <td>2011-01-01 01:00:00</td>\n",
       "      <td>1</td>\n",
       "      <td>0</td>\n",
       "      <td>0</td>\n",
       "      <td>1</td>\n",
       "      <td>9.02</td>\n",
       "      <td>13.635</td>\n",
       "      <td>80</td>\n",
       "      <td>0.0</td>\n",
       "      <td>8</td>\n",
       "      <td>32</td>\n",
       "      <td>40</td>\n",
       "    </tr>\n",
       "    <tr>\n",
       "      <th>2</th>\n",
       "      <td>2011-01-01 02:00:00</td>\n",
       "      <td>1</td>\n",
       "      <td>0</td>\n",
       "      <td>0</td>\n",
       "      <td>1</td>\n",
       "      <td>9.02</td>\n",
       "      <td>13.635</td>\n",
       "      <td>80</td>\n",
       "      <td>0.0</td>\n",
       "      <td>5</td>\n",
       "      <td>27</td>\n",
       "      <td>32</td>\n",
       "    </tr>\n",
       "    <tr>\n",
       "      <th>3</th>\n",
       "      <td>2011-01-01 03:00:00</td>\n",
       "      <td>1</td>\n",
       "      <td>0</td>\n",
       "      <td>0</td>\n",
       "      <td>1</td>\n",
       "      <td>9.84</td>\n",
       "      <td>14.395</td>\n",
       "      <td>75</td>\n",
       "      <td>0.0</td>\n",
       "      <td>3</td>\n",
       "      <td>10</td>\n",
       "      <td>13</td>\n",
       "    </tr>\n",
       "    <tr>\n",
       "      <th>4</th>\n",
       "      <td>2011-01-01 04:00:00</td>\n",
       "      <td>1</td>\n",
       "      <td>0</td>\n",
       "      <td>0</td>\n",
       "      <td>1</td>\n",
       "      <td>9.84</td>\n",
       "      <td>14.395</td>\n",
       "      <td>75</td>\n",
       "      <td>0.0</td>\n",
       "      <td>0</td>\n",
       "      <td>1</td>\n",
       "      <td>1</td>\n",
       "    </tr>\n",
       "  </tbody>\n",
       "</table>\n",
       "</div>"
      ],
      "text/plain": [
       "              datetime  season  holiday  workingday  weather  temp   atemp  \\\n",
       "0  2011-01-01 00:00:00       1        0           0        1  9.84  14.395   \n",
       "1  2011-01-01 01:00:00       1        0           0        1  9.02  13.635   \n",
       "2  2011-01-01 02:00:00       1        0           0        1  9.02  13.635   \n",
       "3  2011-01-01 03:00:00       1        0           0        1  9.84  14.395   \n",
       "4  2011-01-01 04:00:00       1        0           0        1  9.84  14.395   \n",
       "\n",
       "   humidity  windspeed  casual  registered  count  \n",
       "0        81        0.0       3          13     16  \n",
       "1        80        0.0       8          32     40  \n",
       "2        80        0.0       5          27     32  \n",
       "3        75        0.0       3          10     13  \n",
       "4        75        0.0       0           1      1  "
      ]
     },
     "execution_count": 3,
     "metadata": {},
     "output_type": "execute_result"
    }
   ],
   "source": [
    "#preview data\n",
    "df.head()"
   ]
  },
  {
   "cell_type": "code",
   "execution_count": 4,
   "id": "a127f4f2",
   "metadata": {
    "scrolled": true
   },
   "outputs": [
    {
     "data": {
      "text/html": [
       "<div>\n",
       "<style scoped>\n",
       "    .dataframe tbody tr th:only-of-type {\n",
       "        vertical-align: middle;\n",
       "    }\n",
       "\n",
       "    .dataframe tbody tr th {\n",
       "        vertical-align: top;\n",
       "    }\n",
       "\n",
       "    .dataframe thead th {\n",
       "        text-align: right;\n",
       "    }\n",
       "</style>\n",
       "<table border=\"1\" class=\"dataframe\">\n",
       "  <thead>\n",
       "    <tr style=\"text-align: right;\">\n",
       "      <th></th>\n",
       "      <th>season</th>\n",
       "      <th>holiday</th>\n",
       "      <th>workingday</th>\n",
       "      <th>weather</th>\n",
       "      <th>temp</th>\n",
       "      <th>atemp</th>\n",
       "      <th>humidity</th>\n",
       "      <th>windspeed</th>\n",
       "      <th>casual</th>\n",
       "      <th>registered</th>\n",
       "      <th>count</th>\n",
       "    </tr>\n",
       "  </thead>\n",
       "  <tbody>\n",
       "    <tr>\n",
       "      <th>count</th>\n",
       "      <td>10886.000000</td>\n",
       "      <td>10886.000000</td>\n",
       "      <td>10886.000000</td>\n",
       "      <td>10886.000000</td>\n",
       "      <td>10886.00000</td>\n",
       "      <td>10886.000000</td>\n",
       "      <td>10886.000000</td>\n",
       "      <td>10886.000000</td>\n",
       "      <td>10886.000000</td>\n",
       "      <td>10886.000000</td>\n",
       "      <td>10886.000000</td>\n",
       "    </tr>\n",
       "    <tr>\n",
       "      <th>mean</th>\n",
       "      <td>2.506614</td>\n",
       "      <td>0.028569</td>\n",
       "      <td>0.680875</td>\n",
       "      <td>1.418427</td>\n",
       "      <td>20.23086</td>\n",
       "      <td>23.655084</td>\n",
       "      <td>61.886460</td>\n",
       "      <td>12.799395</td>\n",
       "      <td>36.021955</td>\n",
       "      <td>155.552177</td>\n",
       "      <td>191.574132</td>\n",
       "    </tr>\n",
       "    <tr>\n",
       "      <th>std</th>\n",
       "      <td>1.116174</td>\n",
       "      <td>0.166599</td>\n",
       "      <td>0.466159</td>\n",
       "      <td>0.633839</td>\n",
       "      <td>7.79159</td>\n",
       "      <td>8.474601</td>\n",
       "      <td>19.245033</td>\n",
       "      <td>8.164537</td>\n",
       "      <td>49.960477</td>\n",
       "      <td>151.039033</td>\n",
       "      <td>181.144454</td>\n",
       "    </tr>\n",
       "    <tr>\n",
       "      <th>min</th>\n",
       "      <td>1.000000</td>\n",
       "      <td>0.000000</td>\n",
       "      <td>0.000000</td>\n",
       "      <td>1.000000</td>\n",
       "      <td>0.82000</td>\n",
       "      <td>0.760000</td>\n",
       "      <td>0.000000</td>\n",
       "      <td>0.000000</td>\n",
       "      <td>0.000000</td>\n",
       "      <td>0.000000</td>\n",
       "      <td>1.000000</td>\n",
       "    </tr>\n",
       "    <tr>\n",
       "      <th>25%</th>\n",
       "      <td>2.000000</td>\n",
       "      <td>0.000000</td>\n",
       "      <td>0.000000</td>\n",
       "      <td>1.000000</td>\n",
       "      <td>13.94000</td>\n",
       "      <td>16.665000</td>\n",
       "      <td>47.000000</td>\n",
       "      <td>7.001500</td>\n",
       "      <td>4.000000</td>\n",
       "      <td>36.000000</td>\n",
       "      <td>42.000000</td>\n",
       "    </tr>\n",
       "    <tr>\n",
       "      <th>50%</th>\n",
       "      <td>3.000000</td>\n",
       "      <td>0.000000</td>\n",
       "      <td>1.000000</td>\n",
       "      <td>1.000000</td>\n",
       "      <td>20.50000</td>\n",
       "      <td>24.240000</td>\n",
       "      <td>62.000000</td>\n",
       "      <td>12.998000</td>\n",
       "      <td>17.000000</td>\n",
       "      <td>118.000000</td>\n",
       "      <td>145.000000</td>\n",
       "    </tr>\n",
       "    <tr>\n",
       "      <th>75%</th>\n",
       "      <td>4.000000</td>\n",
       "      <td>0.000000</td>\n",
       "      <td>1.000000</td>\n",
       "      <td>2.000000</td>\n",
       "      <td>26.24000</td>\n",
       "      <td>31.060000</td>\n",
       "      <td>77.000000</td>\n",
       "      <td>16.997900</td>\n",
       "      <td>49.000000</td>\n",
       "      <td>222.000000</td>\n",
       "      <td>284.000000</td>\n",
       "    </tr>\n",
       "    <tr>\n",
       "      <th>max</th>\n",
       "      <td>4.000000</td>\n",
       "      <td>1.000000</td>\n",
       "      <td>1.000000</td>\n",
       "      <td>4.000000</td>\n",
       "      <td>41.00000</td>\n",
       "      <td>45.455000</td>\n",
       "      <td>100.000000</td>\n",
       "      <td>56.996900</td>\n",
       "      <td>367.000000</td>\n",
       "      <td>886.000000</td>\n",
       "      <td>977.000000</td>\n",
       "    </tr>\n",
       "  </tbody>\n",
       "</table>\n",
       "</div>"
      ],
      "text/plain": [
       "             season       holiday    workingday       weather         temp  \\\n",
       "count  10886.000000  10886.000000  10886.000000  10886.000000  10886.00000   \n",
       "mean       2.506614      0.028569      0.680875      1.418427     20.23086   \n",
       "std        1.116174      0.166599      0.466159      0.633839      7.79159   \n",
       "min        1.000000      0.000000      0.000000      1.000000      0.82000   \n",
       "25%        2.000000      0.000000      0.000000      1.000000     13.94000   \n",
       "50%        3.000000      0.000000      1.000000      1.000000     20.50000   \n",
       "75%        4.000000      0.000000      1.000000      2.000000     26.24000   \n",
       "max        4.000000      1.000000      1.000000      4.000000     41.00000   \n",
       "\n",
       "              atemp      humidity     windspeed        casual    registered  \\\n",
       "count  10886.000000  10886.000000  10886.000000  10886.000000  10886.000000   \n",
       "mean      23.655084     61.886460     12.799395     36.021955    155.552177   \n",
       "std        8.474601     19.245033      8.164537     49.960477    151.039033   \n",
       "min        0.760000      0.000000      0.000000      0.000000      0.000000   \n",
       "25%       16.665000     47.000000      7.001500      4.000000     36.000000   \n",
       "50%       24.240000     62.000000     12.998000     17.000000    118.000000   \n",
       "75%       31.060000     77.000000     16.997900     49.000000    222.000000   \n",
       "max       45.455000    100.000000     56.996900    367.000000    886.000000   \n",
       "\n",
       "              count  \n",
       "count  10886.000000  \n",
       "mean     191.574132  \n",
       "std      181.144454  \n",
       "min        1.000000  \n",
       "25%       42.000000  \n",
       "50%      145.000000  \n",
       "75%      284.000000  \n",
       "max      977.000000  "
      ]
     },
     "execution_count": 4,
     "metadata": {},
     "output_type": "execute_result"
    }
   ],
   "source": [
    "df.describe()"
   ]
  },
  {
   "cell_type": "code",
   "execution_count": 5,
   "id": "d5a357d1",
   "metadata": {
    "scrolled": true
   },
   "outputs": [
    {
     "name": "stdout",
     "output_type": "stream",
     "text": [
      "<class 'pandas.core.frame.DataFrame'>\n",
      "RangeIndex: 10886 entries, 0 to 10885\n",
      "Data columns (total 12 columns):\n",
      " #   Column      Non-Null Count  Dtype  \n",
      "---  ------      --------------  -----  \n",
      " 0   datetime    10886 non-null  object \n",
      " 1   season      10886 non-null  int64  \n",
      " 2   holiday     10886 non-null  int64  \n",
      " 3   workingday  10886 non-null  int64  \n",
      " 4   weather     10886 non-null  int64  \n",
      " 5   temp        10886 non-null  float64\n",
      " 6   atemp       10886 non-null  float64\n",
      " 7   humidity    10886 non-null  int64  \n",
      " 8   windspeed   10886 non-null  float64\n",
      " 9   casual      10886 non-null  int64  \n",
      " 10  registered  10886 non-null  int64  \n",
      " 11  count       10886 non-null  int64  \n",
      "dtypes: float64(3), int64(8), object(1)\n",
      "memory usage: 1020.7+ KB\n"
     ]
    }
   ],
   "source": [
    "df.info()"
   ]
  },
  {
   "cell_type": "code",
   "execution_count": 6,
   "id": "85ab497c",
   "metadata": {
    "scrolled": false
   },
   "outputs": [
    {
     "data": {
      "text/plain": [
       "datetime      0\n",
       "season        0\n",
       "holiday       0\n",
       "workingday    0\n",
       "weather       0\n",
       "temp          0\n",
       "atemp         0\n",
       "humidity      0\n",
       "windspeed     0\n",
       "casual        0\n",
       "registered    0\n",
       "count         0\n",
       "dtype: int64"
      ]
     },
     "execution_count": 6,
     "metadata": {},
     "output_type": "execute_result"
    }
   ],
   "source": [
    "#double check for nulls\n",
    "df.isna().sum()"
   ]
  },
  {
   "cell_type": "code",
   "execution_count": 7,
   "id": "b0cf3d23",
   "metadata": {},
   "outputs": [],
   "source": [
    "#create names for weather and season values to obtain more meaningful results\n",
    "\n",
    "season_map = {1: \"Spring\", \n",
    "             2: \"Summer\",\n",
    "             3: \"Fall\",\n",
    "             4: \"Winter\"}\n",
    "\n",
    "weather_map = {1: \"Clear to Partly Cloudy\",\n",
    "               2: \"Misty or Cloudy\",\n",
    "               3: \"Light Snow or Rain\",\n",
    "               4: \"Heavy Rain, Snow, Hail\"}\n",
    "\n",
    "#values obtained from Kaggle"
   ]
  },
  {
   "cell_type": "code",
   "execution_count": 8,
   "id": "1ca9c906",
   "metadata": {},
   "outputs": [],
   "source": [
    "df['season'] = df['season'].map(season_map)\n",
    "df['weather'] = df['weather'].map(weather_map)"
   ]
  },
  {
   "cell_type": "code",
   "execution_count": 9,
   "id": "91bcc823",
   "metadata": {},
   "outputs": [
    {
     "data": {
      "text/html": [
       "<div>\n",
       "<style scoped>\n",
       "    .dataframe tbody tr th:only-of-type {\n",
       "        vertical-align: middle;\n",
       "    }\n",
       "\n",
       "    .dataframe tbody tr th {\n",
       "        vertical-align: top;\n",
       "    }\n",
       "\n",
       "    .dataframe thead th {\n",
       "        text-align: right;\n",
       "    }\n",
       "</style>\n",
       "<table border=\"1\" class=\"dataframe\">\n",
       "  <thead>\n",
       "    <tr style=\"text-align: right;\">\n",
       "      <th></th>\n",
       "      <th>datetime</th>\n",
       "      <th>season</th>\n",
       "      <th>holiday</th>\n",
       "      <th>workingday</th>\n",
       "      <th>weather</th>\n",
       "      <th>temp</th>\n",
       "      <th>atemp</th>\n",
       "      <th>humidity</th>\n",
       "      <th>windspeed</th>\n",
       "      <th>casual</th>\n",
       "      <th>registered</th>\n",
       "      <th>count</th>\n",
       "    </tr>\n",
       "  </thead>\n",
       "  <tbody>\n",
       "    <tr>\n",
       "      <th>0</th>\n",
       "      <td>2011-01-01 00:00:00</td>\n",
       "      <td>Spring</td>\n",
       "      <td>0</td>\n",
       "      <td>0</td>\n",
       "      <td>Clear to Partly Cloudy</td>\n",
       "      <td>9.84</td>\n",
       "      <td>14.395</td>\n",
       "      <td>81</td>\n",
       "      <td>0.0000</td>\n",
       "      <td>3</td>\n",
       "      <td>13</td>\n",
       "      <td>16</td>\n",
       "    </tr>\n",
       "    <tr>\n",
       "      <th>1</th>\n",
       "      <td>2011-01-01 01:00:00</td>\n",
       "      <td>Spring</td>\n",
       "      <td>0</td>\n",
       "      <td>0</td>\n",
       "      <td>Clear to Partly Cloudy</td>\n",
       "      <td>9.02</td>\n",
       "      <td>13.635</td>\n",
       "      <td>80</td>\n",
       "      <td>0.0000</td>\n",
       "      <td>8</td>\n",
       "      <td>32</td>\n",
       "      <td>40</td>\n",
       "    </tr>\n",
       "    <tr>\n",
       "      <th>2</th>\n",
       "      <td>2011-01-01 02:00:00</td>\n",
       "      <td>Spring</td>\n",
       "      <td>0</td>\n",
       "      <td>0</td>\n",
       "      <td>Clear to Partly Cloudy</td>\n",
       "      <td>9.02</td>\n",
       "      <td>13.635</td>\n",
       "      <td>80</td>\n",
       "      <td>0.0000</td>\n",
       "      <td>5</td>\n",
       "      <td>27</td>\n",
       "      <td>32</td>\n",
       "    </tr>\n",
       "    <tr>\n",
       "      <th>3</th>\n",
       "      <td>2011-01-01 03:00:00</td>\n",
       "      <td>Spring</td>\n",
       "      <td>0</td>\n",
       "      <td>0</td>\n",
       "      <td>Clear to Partly Cloudy</td>\n",
       "      <td>9.84</td>\n",
       "      <td>14.395</td>\n",
       "      <td>75</td>\n",
       "      <td>0.0000</td>\n",
       "      <td>3</td>\n",
       "      <td>10</td>\n",
       "      <td>13</td>\n",
       "    </tr>\n",
       "    <tr>\n",
       "      <th>4</th>\n",
       "      <td>2011-01-01 04:00:00</td>\n",
       "      <td>Spring</td>\n",
       "      <td>0</td>\n",
       "      <td>0</td>\n",
       "      <td>Clear to Partly Cloudy</td>\n",
       "      <td>9.84</td>\n",
       "      <td>14.395</td>\n",
       "      <td>75</td>\n",
       "      <td>0.0000</td>\n",
       "      <td>0</td>\n",
       "      <td>1</td>\n",
       "      <td>1</td>\n",
       "    </tr>\n",
       "    <tr>\n",
       "      <th>...</th>\n",
       "      <td>...</td>\n",
       "      <td>...</td>\n",
       "      <td>...</td>\n",
       "      <td>...</td>\n",
       "      <td>...</td>\n",
       "      <td>...</td>\n",
       "      <td>...</td>\n",
       "      <td>...</td>\n",
       "      <td>...</td>\n",
       "      <td>...</td>\n",
       "      <td>...</td>\n",
       "      <td>...</td>\n",
       "    </tr>\n",
       "    <tr>\n",
       "      <th>10881</th>\n",
       "      <td>2012-12-19 19:00:00</td>\n",
       "      <td>Winter</td>\n",
       "      <td>0</td>\n",
       "      <td>1</td>\n",
       "      <td>Clear to Partly Cloudy</td>\n",
       "      <td>15.58</td>\n",
       "      <td>19.695</td>\n",
       "      <td>50</td>\n",
       "      <td>26.0027</td>\n",
       "      <td>7</td>\n",
       "      <td>329</td>\n",
       "      <td>336</td>\n",
       "    </tr>\n",
       "    <tr>\n",
       "      <th>10882</th>\n",
       "      <td>2012-12-19 20:00:00</td>\n",
       "      <td>Winter</td>\n",
       "      <td>0</td>\n",
       "      <td>1</td>\n",
       "      <td>Clear to Partly Cloudy</td>\n",
       "      <td>14.76</td>\n",
       "      <td>17.425</td>\n",
       "      <td>57</td>\n",
       "      <td>15.0013</td>\n",
       "      <td>10</td>\n",
       "      <td>231</td>\n",
       "      <td>241</td>\n",
       "    </tr>\n",
       "    <tr>\n",
       "      <th>10883</th>\n",
       "      <td>2012-12-19 21:00:00</td>\n",
       "      <td>Winter</td>\n",
       "      <td>0</td>\n",
       "      <td>1</td>\n",
       "      <td>Clear to Partly Cloudy</td>\n",
       "      <td>13.94</td>\n",
       "      <td>15.910</td>\n",
       "      <td>61</td>\n",
       "      <td>15.0013</td>\n",
       "      <td>4</td>\n",
       "      <td>164</td>\n",
       "      <td>168</td>\n",
       "    </tr>\n",
       "    <tr>\n",
       "      <th>10884</th>\n",
       "      <td>2012-12-19 22:00:00</td>\n",
       "      <td>Winter</td>\n",
       "      <td>0</td>\n",
       "      <td>1</td>\n",
       "      <td>Clear to Partly Cloudy</td>\n",
       "      <td>13.94</td>\n",
       "      <td>17.425</td>\n",
       "      <td>61</td>\n",
       "      <td>6.0032</td>\n",
       "      <td>12</td>\n",
       "      <td>117</td>\n",
       "      <td>129</td>\n",
       "    </tr>\n",
       "    <tr>\n",
       "      <th>10885</th>\n",
       "      <td>2012-12-19 23:00:00</td>\n",
       "      <td>Winter</td>\n",
       "      <td>0</td>\n",
       "      <td>1</td>\n",
       "      <td>Clear to Partly Cloudy</td>\n",
       "      <td>13.12</td>\n",
       "      <td>16.665</td>\n",
       "      <td>66</td>\n",
       "      <td>8.9981</td>\n",
       "      <td>4</td>\n",
       "      <td>84</td>\n",
       "      <td>88</td>\n",
       "    </tr>\n",
       "  </tbody>\n",
       "</table>\n",
       "<p>10886 rows × 12 columns</p>\n",
       "</div>"
      ],
      "text/plain": [
       "                  datetime  season  holiday  workingday  \\\n",
       "0      2011-01-01 00:00:00  Spring        0           0   \n",
       "1      2011-01-01 01:00:00  Spring        0           0   \n",
       "2      2011-01-01 02:00:00  Spring        0           0   \n",
       "3      2011-01-01 03:00:00  Spring        0           0   \n",
       "4      2011-01-01 04:00:00  Spring        0           0   \n",
       "...                    ...     ...      ...         ...   \n",
       "10881  2012-12-19 19:00:00  Winter        0           1   \n",
       "10882  2012-12-19 20:00:00  Winter        0           1   \n",
       "10883  2012-12-19 21:00:00  Winter        0           1   \n",
       "10884  2012-12-19 22:00:00  Winter        0           1   \n",
       "10885  2012-12-19 23:00:00  Winter        0           1   \n",
       "\n",
       "                      weather   temp   atemp  humidity  windspeed  casual  \\\n",
       "0      Clear to Partly Cloudy   9.84  14.395        81     0.0000       3   \n",
       "1      Clear to Partly Cloudy   9.02  13.635        80     0.0000       8   \n",
       "2      Clear to Partly Cloudy   9.02  13.635        80     0.0000       5   \n",
       "3      Clear to Partly Cloudy   9.84  14.395        75     0.0000       3   \n",
       "4      Clear to Partly Cloudy   9.84  14.395        75     0.0000       0   \n",
       "...                       ...    ...     ...       ...        ...     ...   \n",
       "10881  Clear to Partly Cloudy  15.58  19.695        50    26.0027       7   \n",
       "10882  Clear to Partly Cloudy  14.76  17.425        57    15.0013      10   \n",
       "10883  Clear to Partly Cloudy  13.94  15.910        61    15.0013       4   \n",
       "10884  Clear to Partly Cloudy  13.94  17.425        61     6.0032      12   \n",
       "10885  Clear to Partly Cloudy  13.12  16.665        66     8.9981       4   \n",
       "\n",
       "       registered  count  \n",
       "0              13     16  \n",
       "1              32     40  \n",
       "2              27     32  \n",
       "3              10     13  \n",
       "4               1      1  \n",
       "...           ...    ...  \n",
       "10881         329    336  \n",
       "10882         231    241  \n",
       "10883         164    168  \n",
       "10884         117    129  \n",
       "10885          84     88  \n",
       "\n",
       "[10886 rows x 12 columns]"
      ]
     },
     "execution_count": 9,
     "metadata": {},
     "output_type": "execute_result"
    }
   ],
   "source": [
    "#check df\n",
    "df"
   ]
  },
  {
   "cell_type": "code",
   "execution_count": 10,
   "id": "7c4fa673",
   "metadata": {},
   "outputs": [],
   "source": [
    "#change datetime to datetime type and extract date, time, and day of week\n",
    "\n",
    "df['datetime'] = pd.to_datetime(df['datetime'])"
   ]
  },
  {
   "cell_type": "code",
   "execution_count": 11,
   "id": "3613eaaf",
   "metadata": {},
   "outputs": [],
   "source": [
    "df['date'] = df['datetime'].dt.date"
   ]
  },
  {
   "cell_type": "code",
   "execution_count": 12,
   "id": "6ef867cf",
   "metadata": {},
   "outputs": [],
   "source": [
    "df[\"time\"] = df[\"datetime\"].dt.time"
   ]
  },
  {
   "cell_type": "code",
   "execution_count": 13,
   "id": "58a8e5f7",
   "metadata": {},
   "outputs": [],
   "source": [
    "df['day_name'] = df['datetime'].dt.day_name()"
   ]
  },
  {
   "cell_type": "code",
   "execution_count": 14,
   "id": "f823fd78",
   "metadata": {},
   "outputs": [],
   "source": [
    "#split day into morning, afternoon, evening, and night\n",
    "\n",
    "for i in df.index:\n",
    "    if df.loc[i,'time'] < datetime.time(pd.to_datetime('6:00')):\n",
    "        df.loc[i, 'time_of_day'] = 'Night'\n",
    "    elif df.loc[i,'time'] < datetime.time(pd.to_datetime('12:00')):\n",
    "        df.loc[i, 'time_of_day'] = 'Morning'\n",
    "    elif df.loc[i,'time'] < datetime.time(pd.to_datetime('18:00')):\n",
    "        df.loc[i, 'time_of_day'] = 'Afternoon'\n",
    "    else: df.loc[i, 'time_of_day'] = 'Evening'"
   ]
  },
  {
   "cell_type": "code",
   "execution_count": 15,
   "id": "5818f582",
   "metadata": {},
   "outputs": [
    {
     "data": {
      "text/html": [
       "<div>\n",
       "<style scoped>\n",
       "    .dataframe tbody tr th:only-of-type {\n",
       "        vertical-align: middle;\n",
       "    }\n",
       "\n",
       "    .dataframe tbody tr th {\n",
       "        vertical-align: top;\n",
       "    }\n",
       "\n",
       "    .dataframe thead th {\n",
       "        text-align: right;\n",
       "    }\n",
       "</style>\n",
       "<table border=\"1\" class=\"dataframe\">\n",
       "  <thead>\n",
       "    <tr style=\"text-align: right;\">\n",
       "      <th></th>\n",
       "      <th>datetime</th>\n",
       "      <th>season</th>\n",
       "      <th>holiday</th>\n",
       "      <th>workingday</th>\n",
       "      <th>weather</th>\n",
       "      <th>temp</th>\n",
       "      <th>atemp</th>\n",
       "      <th>humidity</th>\n",
       "      <th>windspeed</th>\n",
       "      <th>casual</th>\n",
       "      <th>registered</th>\n",
       "      <th>count</th>\n",
       "      <th>date</th>\n",
       "      <th>time</th>\n",
       "      <th>day_name</th>\n",
       "      <th>time_of_day</th>\n",
       "    </tr>\n",
       "  </thead>\n",
       "  <tbody>\n",
       "    <tr>\n",
       "      <th>0</th>\n",
       "      <td>2011-01-01 00:00:00</td>\n",
       "      <td>Spring</td>\n",
       "      <td>0</td>\n",
       "      <td>0</td>\n",
       "      <td>Clear to Partly Cloudy</td>\n",
       "      <td>9.84</td>\n",
       "      <td>14.395</td>\n",
       "      <td>81</td>\n",
       "      <td>0.0</td>\n",
       "      <td>3</td>\n",
       "      <td>13</td>\n",
       "      <td>16</td>\n",
       "      <td>2011-01-01</td>\n",
       "      <td>00:00:00</td>\n",
       "      <td>Saturday</td>\n",
       "      <td>Night</td>\n",
       "    </tr>\n",
       "    <tr>\n",
       "      <th>1</th>\n",
       "      <td>2011-01-01 01:00:00</td>\n",
       "      <td>Spring</td>\n",
       "      <td>0</td>\n",
       "      <td>0</td>\n",
       "      <td>Clear to Partly Cloudy</td>\n",
       "      <td>9.02</td>\n",
       "      <td>13.635</td>\n",
       "      <td>80</td>\n",
       "      <td>0.0</td>\n",
       "      <td>8</td>\n",
       "      <td>32</td>\n",
       "      <td>40</td>\n",
       "      <td>2011-01-01</td>\n",
       "      <td>01:00:00</td>\n",
       "      <td>Saturday</td>\n",
       "      <td>Night</td>\n",
       "    </tr>\n",
       "    <tr>\n",
       "      <th>2</th>\n",
       "      <td>2011-01-01 02:00:00</td>\n",
       "      <td>Spring</td>\n",
       "      <td>0</td>\n",
       "      <td>0</td>\n",
       "      <td>Clear to Partly Cloudy</td>\n",
       "      <td>9.02</td>\n",
       "      <td>13.635</td>\n",
       "      <td>80</td>\n",
       "      <td>0.0</td>\n",
       "      <td>5</td>\n",
       "      <td>27</td>\n",
       "      <td>32</td>\n",
       "      <td>2011-01-01</td>\n",
       "      <td>02:00:00</td>\n",
       "      <td>Saturday</td>\n",
       "      <td>Night</td>\n",
       "    </tr>\n",
       "    <tr>\n",
       "      <th>3</th>\n",
       "      <td>2011-01-01 03:00:00</td>\n",
       "      <td>Spring</td>\n",
       "      <td>0</td>\n",
       "      <td>0</td>\n",
       "      <td>Clear to Partly Cloudy</td>\n",
       "      <td>9.84</td>\n",
       "      <td>14.395</td>\n",
       "      <td>75</td>\n",
       "      <td>0.0</td>\n",
       "      <td>3</td>\n",
       "      <td>10</td>\n",
       "      <td>13</td>\n",
       "      <td>2011-01-01</td>\n",
       "      <td>03:00:00</td>\n",
       "      <td>Saturday</td>\n",
       "      <td>Night</td>\n",
       "    </tr>\n",
       "    <tr>\n",
       "      <th>4</th>\n",
       "      <td>2011-01-01 04:00:00</td>\n",
       "      <td>Spring</td>\n",
       "      <td>0</td>\n",
       "      <td>0</td>\n",
       "      <td>Clear to Partly Cloudy</td>\n",
       "      <td>9.84</td>\n",
       "      <td>14.395</td>\n",
       "      <td>75</td>\n",
       "      <td>0.0</td>\n",
       "      <td>0</td>\n",
       "      <td>1</td>\n",
       "      <td>1</td>\n",
       "      <td>2011-01-01</td>\n",
       "      <td>04:00:00</td>\n",
       "      <td>Saturday</td>\n",
       "      <td>Night</td>\n",
       "    </tr>\n",
       "  </tbody>\n",
       "</table>\n",
       "</div>"
      ],
      "text/plain": [
       "             datetime  season  holiday  workingday                 weather  \\\n",
       "0 2011-01-01 00:00:00  Spring        0           0  Clear to Partly Cloudy   \n",
       "1 2011-01-01 01:00:00  Spring        0           0  Clear to Partly Cloudy   \n",
       "2 2011-01-01 02:00:00  Spring        0           0  Clear to Partly Cloudy   \n",
       "3 2011-01-01 03:00:00  Spring        0           0  Clear to Partly Cloudy   \n",
       "4 2011-01-01 04:00:00  Spring        0           0  Clear to Partly Cloudy   \n",
       "\n",
       "   temp   atemp  humidity  windspeed  casual  registered  count        date  \\\n",
       "0  9.84  14.395        81        0.0       3          13     16  2011-01-01   \n",
       "1  9.02  13.635        80        0.0       8          32     40  2011-01-01   \n",
       "2  9.02  13.635        80        0.0       5          27     32  2011-01-01   \n",
       "3  9.84  14.395        75        0.0       3          10     13  2011-01-01   \n",
       "4  9.84  14.395        75        0.0       0           1      1  2011-01-01   \n",
       "\n",
       "       time  day_name time_of_day  \n",
       "0  00:00:00  Saturday       Night  \n",
       "1  01:00:00  Saturday       Night  \n",
       "2  02:00:00  Saturday       Night  \n",
       "3  03:00:00  Saturday       Night  \n",
       "4  04:00:00  Saturday       Night  "
      ]
     },
     "execution_count": 15,
     "metadata": {},
     "output_type": "execute_result"
    }
   ],
   "source": [
    "#preview df\n",
    "df.head()"
   ]
  },
  {
   "cell_type": "code",
   "execution_count": 16,
   "id": "b37a3bd9",
   "metadata": {},
   "outputs": [],
   "source": [
    "#add day of week\n",
    "\n",
    "df['date'] = df['datetime'].dt.date"
   ]
  },
  {
   "cell_type": "markdown",
   "id": "71fbe6d8",
   "metadata": {},
   "source": [
    "# Visualizations"
   ]
  },
  {
   "cell_type": "code",
   "execution_count": 17,
   "id": "7d9f9267",
   "metadata": {},
   "outputs": [
    {
     "name": "stdout",
     "output_type": "stream",
     "text": [
      "<class 'pandas.core.frame.DataFrame'>\n",
      "RangeIndex: 10886 entries, 0 to 10885\n",
      "Data columns (total 16 columns):\n",
      " #   Column       Non-Null Count  Dtype         \n",
      "---  ------       --------------  -----         \n",
      " 0   datetime     10886 non-null  datetime64[ns]\n",
      " 1   season       10886 non-null  object        \n",
      " 2   holiday      10886 non-null  int64         \n",
      " 3   workingday   10886 non-null  int64         \n",
      " 4   weather      10886 non-null  object        \n",
      " 5   temp         10886 non-null  float64       \n",
      " 6   atemp        10886 non-null  float64       \n",
      " 7   humidity     10886 non-null  int64         \n",
      " 8   windspeed    10886 non-null  float64       \n",
      " 9   casual       10886 non-null  int64         \n",
      " 10  registered   10886 non-null  int64         \n",
      " 11  count        10886 non-null  int64         \n",
      " 12  date         10886 non-null  object        \n",
      " 13  time         10886 non-null  object        \n",
      " 14  day_name     10886 non-null  object        \n",
      " 15  time_of_day  10886 non-null  object        \n",
      "dtypes: datetime64[ns](1), float64(3), int64(6), object(6)\n",
      "memory usage: 1.3+ MB\n"
     ]
    }
   ],
   "source": [
    "df.info()"
   ]
  },
  {
   "cell_type": "code",
   "execution_count": 86,
   "id": "88ab222b",
   "metadata": {},
   "outputs": [
    {
     "data": {
      "text/plain": [
       "<Figure size 5000x2000 with 0 Axes>"
      ]
     },
     "metadata": {},
     "output_type": "display_data"
    },
    {
     "data": {
      "image/png": "[encoded data removed]",
      "text/plain": [
       "<Figure size 640x480 with 6 Axes>"
      ]
     },
     "metadata": {},
     "output_type": "display_data"
    }
   ],
   "source": [
    "#look at distribution of categorical variables\n",
    "# making subplots objects\n",
    "plt.figure(figsize=(50,20))\n",
    "\n",
    "fig, ax = plt.subplots(2, 3)\n",
    "\n",
    "# draw graph\n",
    "plt.subplot(2,3,1)\n",
    "sns.countplot(x = df['season'],palette = \"rocket_r\")\n",
    "plt.xticks(rotation = 90)\n",
    "plt.ylim(2600, 2750)\n",
    "\n",
    "plt.subplot(2,3,2)\n",
    "sns.countplot(x = df['holiday'],palette = \"rocket_r\")\n",
    "\n",
    "plt.subplot(2,3,3)\n",
    "sns.countplot(x = df['workingday'],palette = \"rocket_r\")\n",
    "\n",
    "plt.subplot(2,3,4)\n",
    "sns.countplot(x = df['weather'],palette = \"rocket_r\")\n",
    "plt.xticks(rotation = 90)\n",
    "\n",
    "plt.subplot(2,3,5)\n",
    "sns.countplot(x = df['time_of_day'],palette = \"rocket_r\")\n",
    "plt.xticks(rotation = 90)\n",
    "plt.ylim(2650, 2750)\n",
    "\n",
    "plt.subplot(2,3,6)\n",
    "sns.countplot(x = df['day_name'],palette = \"rocket_r\")\n",
    "plt.xticks(rotation = 90)\n",
    "plt.ylim(1400, 1600)\n",
    "\n",
    "plt.subplots_adjust(left=0.1, right=0.9, bottom=0.001, top=0.9, wspace=0.7, hspace=0.999)\n",
    " \n",
    "fig.suptitle('Categorical Variable Distributions', fontsize=20)\n",
    " \n",
    "plt.show()"
   ]
  },
  {
   "cell_type": "code",
   "execution_count": 130,
   "id": "b6b3eb60",
   "metadata": {},
   "outputs": [
    {
     "data": {
      "text/plain": [
       "<Figure size 1500x2000 with 0 Axes>"
      ]
     },
     "metadata": {},
     "output_type": "display_data"
    },
    {
     "data": {
      "image/png": "[encoded data removed]",
      "text/plain": [
       "<Figure size 640x480 with 6 Axes>"
      ]
     },
     "metadata": {},
     "output_type": "display_data"
    }
   ],
   "source": [
    "#Look at histograms of continuous variables\n",
    "#excluding count as it is a combination of casual and registered\n",
    "\n",
    "# Setting the aesthetics for the plots\n",
    "sns.set(style=\"dark\")\n",
    "\n",
    "# making subplots objects\n",
    "plt.figure(figsize=(15,20))\n",
    "\n",
    "fig, ax = plt.subplots(3, 2)\n",
    "\n",
    "ax1 = plt.subplot(3,2,1)\n",
    "sns.histplot(df['temp'],\n",
    "            kde = True)\n",
    "ax1.set_xlabel(\"Temperature (C)\")\n",
    "plt.ylabel('Frequency')\n",
    "plt.ylim(0, 1000)\n",
    "\n",
    "ax2 = plt.subplot(3,2,2)\n",
    "sns.histplot(df['atemp'],\n",
    "            kde = True)\n",
    "ax2.set_xlabel(\"Feeling Temperature (C)\")\n",
    "plt.ylabel('Frequency')\n",
    "plt.ylim(0, 1000)\n",
    "\n",
    "ax3 = plt.subplot(3,2,3)\n",
    "sns.histplot(df['humidity'],\n",
    "            kde = True)\n",
    "ax3.set_xlabel(\"Humidity\")\n",
    "plt.ylabel('Frequency')\n",
    "plt.ylim(0, 1000)\n",
    "\n",
    "ax4 = plt.subplot(3,2,4)\n",
    "sns.histplot(df['windspeed'],\n",
    "            kde = True)\n",
    "ax4.set_xlabel(\"Windspeed\")\n",
    "plt.ylabel('Frequency')\n",
    "plt.ylim(0, 1000)\n",
    "\n",
    "ax5 = plt.subplot(3,2,5)\n",
    "sns.histplot(df['casual'],\n",
    "            kde = True)\n",
    "ax5.set_xlabel(\"Casual Users\")\n",
    "plt.ylabel('Frequency')\n",
    "plt.ylim(0, 1000)\n",
    "\n",
    "ax6 = plt.subplot(3,2,6)\n",
    "sns.histplot(df['registered'],\n",
    "            kde = True)\n",
    "ax6.set_xlabel(\"Registered Users\")\n",
    "plt.ylabel('Frequency')\n",
    "plt.ylim(0, 1000)\n",
    "\n",
    "plt.subplots_adjust(left=0.1, right=0.9, bottom=0.001, top=0.9, wspace=0.7, hspace=0.999)\n",
    "\n",
    "plt.tight_layout()\n",
    "\n",
    "plt.show()"
   ]
  },
  {
   "cell_type": "code",
   "execution_count": 43,
   "id": "74979737",
   "metadata": {},
   "outputs": [],
   "source": [
    "#get daily count of rentals\n",
    "\n",
    "daily_count = df.groupby(['season','date','day_name'])['count'].sum().reset_index()"
   ]
  },
  {
   "cell_type": "code",
   "execution_count": 52,
   "id": "68824bd2",
   "metadata": {},
   "outputs": [
    {
     "data": {
      "text/html": [
       "<div>\n",
       "<style scoped>\n",
       "    .dataframe tbody tr th:only-of-type {\n",
       "        vertical-align: middle;\n",
       "    }\n",
       "\n",
       "    .dataframe tbody tr th {\n",
       "        vertical-align: top;\n",
       "    }\n",
       "\n",
       "    .dataframe thead th {\n",
       "        text-align: right;\n",
       "    }\n",
       "</style>\n",
       "<table border=\"1\" class=\"dataframe\">\n",
       "  <thead>\n",
       "    <tr style=\"text-align: right;\">\n",
       "      <th></th>\n",
       "      <th>season</th>\n",
       "      <th>date</th>\n",
       "      <th>day_name</th>\n",
       "      <th>count</th>\n",
       "    </tr>\n",
       "  </thead>\n",
       "  <tbody>\n",
       "    <tr>\n",
       "      <th>0</th>\n",
       "      <td>Fall</td>\n",
       "      <td>2011-07-01</td>\n",
       "      <td>Friday</td>\n",
       "      <td>5362</td>\n",
       "    </tr>\n",
       "    <tr>\n",
       "      <th>1</th>\n",
       "      <td>Fall</td>\n",
       "      <td>2011-07-02</td>\n",
       "      <td>Saturday</td>\n",
       "      <td>5119</td>\n",
       "    </tr>\n",
       "    <tr>\n",
       "      <th>2</th>\n",
       "      <td>Fall</td>\n",
       "      <td>2011-07-03</td>\n",
       "      <td>Sunday</td>\n",
       "      <td>4649</td>\n",
       "    </tr>\n",
       "    <tr>\n",
       "      <th>3</th>\n",
       "      <td>Fall</td>\n",
       "      <td>2011-07-04</td>\n",
       "      <td>Monday</td>\n",
       "      <td>6043</td>\n",
       "    </tr>\n",
       "    <tr>\n",
       "      <th>4</th>\n",
       "      <td>Fall</td>\n",
       "      <td>2011-07-05</td>\n",
       "      <td>Tuesday</td>\n",
       "      <td>4665</td>\n",
       "    </tr>\n",
       "  </tbody>\n",
       "</table>\n",
       "</div>"
      ],
      "text/plain": [
       "  season        date  day_name  count\n",
       "0   Fall  2011-07-01    Friday   5362\n",
       "1   Fall  2011-07-02  Saturday   5119\n",
       "2   Fall  2011-07-03    Sunday   4649\n",
       "3   Fall  2011-07-04    Monday   6043\n",
       "4   Fall  2011-07-05   Tuesday   4665"
      ]
     },
     "execution_count": 52,
     "metadata": {},
     "output_type": "execute_result"
    }
   ],
   "source": [
    "daily_count.head()"
   ]
  },
  {
   "cell_type": "code",
   "execution_count": 51,
   "id": "8a2d73bf",
   "metadata": {
    "scrolled": true
   },
   "outputs": [
    {
     "data": {
      "text/html": [
       "<div>\n",
       "<style scoped>\n",
       "    .dataframe tbody tr th:only-of-type {\n",
       "        vertical-align: middle;\n",
       "    }\n",
       "\n",
       "    .dataframe tbody tr th {\n",
       "        vertical-align: top;\n",
       "    }\n",
       "\n",
       "    .dataframe thead th {\n",
       "        text-align: right;\n",
       "    }\n",
       "</style>\n",
       "<table border=\"1\" class=\"dataframe\">\n",
       "  <thead>\n",
       "    <tr style=\"text-align: right;\">\n",
       "      <th></th>\n",
       "      <th>day_name</th>\n",
       "      <th>count</th>\n",
       "    </tr>\n",
       "  </thead>\n",
       "  <tbody>\n",
       "    <tr>\n",
       "      <th>0</th>\n",
       "      <td>Friday</td>\n",
       "      <td>4726.625000</td>\n",
       "    </tr>\n",
       "    <tr>\n",
       "      <th>1</th>\n",
       "      <td>Monday</td>\n",
       "      <td>4543.015385</td>\n",
       "    </tr>\n",
       "    <tr>\n",
       "      <th>2</th>\n",
       "      <td>Saturday</td>\n",
       "      <td>4719.969697</td>\n",
       "    </tr>\n",
       "    <tr>\n",
       "      <th>3</th>\n",
       "      <td>Sunday</td>\n",
       "      <td>4326.454545</td>\n",
       "    </tr>\n",
       "    <tr>\n",
       "      <th>4</th>\n",
       "      <td>Thursday</td>\n",
       "      <td>4713.861538</td>\n",
       "    </tr>\n",
       "    <tr>\n",
       "      <th>5</th>\n",
       "      <td>Tuesday</td>\n",
       "      <td>4492.076923</td>\n",
       "    </tr>\n",
       "    <tr>\n",
       "      <th>6</th>\n",
       "      <td>Wednesday</td>\n",
       "      <td>4495.784615</td>\n",
       "    </tr>\n",
       "  </tbody>\n",
       "</table>\n",
       "</div>"
      ],
      "text/plain": [
       "    day_name        count\n",
       "0     Friday  4726.625000\n",
       "1     Monday  4543.015385\n",
       "2   Saturday  4719.969697\n",
       "3     Sunday  4326.454545\n",
       "4   Thursday  4713.861538\n",
       "5    Tuesday  4492.076923\n",
       "6  Wednesday  4495.784615"
      ]
     },
     "execution_count": 51,
     "metadata": {},
     "output_type": "execute_result"
    }
   ],
   "source": [
    "#visualize average rentals per week day\n",
    "\n",
    "day_plot = daily_count.groupby('day_name')['count'].mean().reset_index()\n",
    "\n",
    "day_plot"
   ]
  },
  {
   "cell_type": "code",
   "execution_count": 74,
   "id": "00dfafa0",
   "metadata": {},
   "outputs": [
    {
     "data": {
      "image/png": "[encoded data removed]",
      "text/plain": [
       "<Figure size 640x480 with 1 Axes>"
      ]
     },
     "metadata": {},
     "output_type": "display_data"
    }
   ],
   "source": [
    "plt.figure()\n",
    "\n",
    "plt.bar(day_plot['day_name'], day_plot['count'],\n",
    "       zorder = 2,\n",
    "       color = 'salmon',\n",
    "       alpha = .9)\n",
    "plt.xticks(rotation = 45)\n",
    "plt.xlabel('Day of the Week')\n",
    "plt.ylabel('Average Rental Count')\n",
    "plt.title('Average Bike Rental Count per Week Day')\n",
    "plt.ylim(4000, 5000)\n",
    "plt.grid(zorder = 0)\n",
    "\n",
    "plt.show()"
   ]
  },
  {
   "cell_type": "markdown",
   "id": "7d2d0d1c",
   "metadata": {},
   "source": [
    "# Hypothesis Test"
   ]
  },
  {
   "cell_type": "markdown",
   "id": "5eab9bd5",
   "metadata": {},
   "source": [
    "Null Hypothesis: The type of day does not have an affect on the average number of bike rentals.\n",
    "\n",
    "Alternative Hypothesis: The type of day has an affect on the average number of bike rentals. "
   ]
  },
  {
   "cell_type": "markdown",
   "id": "1c584c5c",
   "metadata": {},
   "source": [
    "$H_0: \\mu_1 = \\mu_2 \\\\\n",
    "H_a: \\mu_1 \\neq \\mu_2\\\\ \n",
    "\\alpha = .05$ \n",
    "\n",
    "Where $\\mu_1$ = the average number of bike rentals on a work day and $\\mu_2$ = the average number of bike rentals on all other days.\n"
   ]
  },
  {
   "cell_type": "code",
   "execution_count": 139,
   "id": "b411d4e0",
   "metadata": {},
   "outputs": [
    {
     "data": {
      "text/plain": [
       "(1.2096277376026694, 0.22644804226361348)"
      ]
     },
     "execution_count": 139,
     "metadata": {},
     "output_type": "execute_result"
    }
   ],
   "source": [
    "# Separate the counts based on working day\n",
    "working_day_count = df[df['workingday'] == 1]['count']\n",
    "non_working_day_count = df[df['workingday'] == 0]['count']\n",
    "\n",
    "# Perform 2-sample t-test\n",
    "t_stat, p_value = stats.ttest_ind(working_day_count, non_working_day_count)\n",
    "\n",
    "t_stat, p_value"
   ]
  },
  {
   "cell_type": "markdown",
   "id": "ecddeda9",
   "metadata": {},
   "source": [
    "Since ~.22 is greater than .05 we fail to reject the null hyptothesis. Let's check the size of each population to see if they are relatively equal. "
   ]
  },
  {
   "cell_type": "code",
   "execution_count": 142,
   "id": "8ca4b9ac",
   "metadata": {},
   "outputs": [
    {
     "data": {
      "text/plain": [
       "7412"
      ]
     },
     "execution_count": 142,
     "metadata": {},
     "output_type": "execute_result"
    }
   ],
   "source": [
    "len(working_day_count)"
   ]
  },
  {
   "cell_type": "code",
   "execution_count": 141,
   "id": "a08a7f54",
   "metadata": {},
   "outputs": [
    {
     "data": {
      "text/plain": [
       "3474"
      ]
     },
     "execution_count": 141,
     "metadata": {},
     "output_type": "execute_result"
    }
   ],
   "source": [
    "len(non_working_day_count)"
   ]
  },
  {
   "cell_type": "markdown",
   "id": "6358804f",
   "metadata": {},
   "source": [
    "Given that we have more observations of work day data, we will sample a smaller proportion of that data for the hypothesis test"
   ]
  },
  {
   "cell_type": "code",
   "execution_count": 148,
   "id": "b73f7b39",
   "metadata": {},
   "outputs": [],
   "source": [
    "wd_count_sampled = working_day_count.sample(3474)"
   ]
  },
  {
   "cell_type": "code",
   "execution_count": 149,
   "id": "a29bb4d9",
   "metadata": {},
   "outputs": [
    {
     "data": {
      "text/plain": [
       "476      40\n",
       "74       36\n",
       "5301     51\n",
       "6348    525\n",
       "5866    127\n",
       "       ... \n",
       "7442    201\n",
       "4468     21\n",
       "7963      4\n",
       "6480    108\n",
       "5681     29\n",
       "Name: count, Length: 3474, dtype: int64"
      ]
     },
     "execution_count": 149,
     "metadata": {},
     "output_type": "execute_result"
    }
   ],
   "source": [
    "wd_count_sampled"
   ]
  },
  {
   "cell_type": "code",
   "execution_count": 150,
   "id": "7d31b816",
   "metadata": {},
   "outputs": [
    {
     "data": {
      "text/plain": [
       "(1.3003966774647733, 0.19350819213289916)"
      ]
     },
     "execution_count": 150,
     "metadata": {},
     "output_type": "execute_result"
    }
   ],
   "source": [
    "# Perform 2-sample t-test\n",
    "t_stat, p_value = stats.ttest_ind(wd_count_sampled, non_working_day_count)\n",
    "\n",
    "t_stat, p_value"
   ]
  },
  {
   "cell_type": "markdown",
   "id": "9e1e454d",
   "metadata": {},
   "source": [
    "The P_value is a little lower but we still fail to reject the null hypothesis. \n",
    "\n",
    "Based on the weekday graph above, it appears Saturday and Sunday have similar daily average counts. Let's see if bike rentals between weekend daya are significantly different. "
   ]
  },
  {
   "cell_type": "code",
   "execution_count": 155,
   "id": "1f12f2e5",
   "metadata": {},
   "outputs": [
    {
     "data": {
      "text/plain": [
       "(-2.555832436914327, 0.010639802241352816)"
      ]
     },
     "execution_count": 155,
     "metadata": {},
     "output_type": "execute_result"
    }
   ],
   "source": [
    "# Separate the counts between Friday and Saturday\n",
    "\n",
    "Sunday_count = df[df['day_name'] == 'Sunday']['count']\n",
    "Saturday_count = df[df['day_name'] == 'Saturday']['count']\n",
    "\n",
    "# Perform 2-sample t-test\n",
    "t_stat, p_value = stats.ttest_ind(Sunday_count, Saturday_count)\n",
    "\n",
    "t_stat, p_value"
   ]
  },
  {
   "cell_type": "markdown",
   "id": "edf12d4a",
   "metadata": {},
   "source": [
    "The p_value between Saturday and Sunday counts is ~.01 which is less than .05 which means we can reject the null hypothesis. From a business viewpoint, the next thing would be to consider why the count of bike rentals is different on Saturday and Sunday and then examine how we might market the bikes differently on these different days. "
   ]
  },
  {
   "cell_type": "code",
   "execution_count": null,
   "id": "7936f51f",
   "metadata": {},
   "outputs": [],
   "source": []
  }
 ],
 "metadata": {
  "kernelspec": {
   "display_name": "Python 3 (ipykernel)",
   "language": "python",
   "name": "python3"
  },
  "language_info": {
   "codemirror_mode": {
    "name": "ipython",
    "version": 3
   },
   "file_extension": ".py",
   "mimetype": "text/x-python",
   "name": "python",
   "nbconvert_exporter": "python",
   "pygments_lexer": "ipython3",
   "version": "3.11.5"
  }
 },
 "nbformat": 4,
 "nbformat_minor": 5
}
