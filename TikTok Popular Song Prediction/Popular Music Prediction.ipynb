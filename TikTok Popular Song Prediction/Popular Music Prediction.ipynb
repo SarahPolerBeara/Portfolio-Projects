{
 "cells": [
  {
   "cell_type": "code",
   "execution_count": 240,
   "id": "cae51a79",
   "metadata": {},
   "outputs": [
    {
     "name": "stdout",
     "output_type": "stream",
     "text": [
      "Collecting scikeras\n",
      "  Downloading scikeras-0.9.0-py3-none-any.whl (27 kB)\n",
      "Collecting scikit-learn>=1.0.0\n",
      "  Downloading scikit_learn-1.1.2-cp38-cp38-macosx_10_9_x86_64.whl (8.6 MB)\n",
      "\u001b[K     |████████████████████████████████| 8.6 MB 5.4 MB/s eta 0:00:01     |███████████████████████▊        | 6.4 MB 5.4 MB/s eta 0:00:01\n",
      "\u001b[?25hRequirement already satisfied: packaging>=0.21 in /Users/sarahrussell/opt/anaconda3/lib/python3.8/site-packages (from scikeras) (20.9)\n",
      "Requirement already satisfied: pyparsing>=2.0.2 in /Users/sarahrussell/opt/anaconda3/lib/python3.8/site-packages (from packaging>=0.21->scikeras) (2.4.7)\n",
      "Requirement already satisfied: numpy>=1.17.3 in /Users/sarahrussell/opt/anaconda3/lib/python3.8/site-packages (from scikit-learn>=1.0.0->scikeras) (1.20.1)\n",
      "Requirement already satisfied: joblib>=1.0.0 in /Users/sarahrussell/opt/anaconda3/lib/python3.8/site-packages (from scikit-learn>=1.0.0->scikeras) (1.0.1)\n",
      "Requirement already satisfied: threadpoolctl>=2.0.0 in /Users/sarahrussell/opt/anaconda3/lib/python3.8/site-packages (from scikit-learn>=1.0.0->scikeras) (2.1.0)\n",
      "Requirement already satisfied: scipy>=1.3.2 in /Users/sarahrussell/opt/anaconda3/lib/python3.8/site-packages (from scikit-learn>=1.0.0->scikeras) (1.6.2)\n",
      "Installing collected packages: scikit-learn, scikeras\n",
      "  Attempting uninstall: scikit-learn\n",
      "    Found existing installation: scikit-learn 0.24.1\n",
      "    Uninstalling scikit-learn-0.24.1:\n",
      "      Successfully uninstalled scikit-learn-0.24.1\n",
      "Successfully installed scikeras-0.9.0 scikit-learn-1.1.2\n"
     ]
    }
   ],
   "source": [
    "!pip install scikeras"
   ]
  },
  {
   "cell_type": "code",
   "execution_count": 241,
   "id": "5a1c2e75",
   "metadata": {},
   "outputs": [],
   "source": [
    "#import packages\n",
    "\n",
    "import pandas as pd\n",
    "import numpy as np\n",
    "\n",
    "import seaborn as sns\n",
    "import matplotlib.pyplot as plt\n",
    "\n",
    "from sklearn.model_selection import train_test_split\n",
    "from sklearn.feature_selection import VarianceThreshold\n",
    "from sklearn.model_selection import cross_val_score\n",
    "from sklearn.model_selection import RepeatedStratifiedKFold\n",
    "from sklearn.feature_selection import RFECV\n",
    "from sklearn.tree import DecisionTreeClassifier\n",
    "from sklearn.pipeline import Pipeline\n",
    "from sklearn.preprocessing import StandardScaler\n",
    "\n",
    "from sklearn import linear_model\n",
    "from sklearn.ensemble import RandomForestRegressor\n",
    "from sklearn.ensemble import GradientBoostingRegressor\n",
    "from tensorflow.keras.models import Sequential\n",
    "from tensorflow.keras.layers import Dense\n",
    "from scikeras.wrappers import KerasRegressor\n",
    "from sklearn.model_selection import cross_val_score\n",
    "from sklearn.model_selection import KFold\n",
    "from sklearn.preprocessing import StandardScaler\n",
    "from sklearn.pipeline import Pipeline"
   ]
  },
  {
   "cell_type": "code",
   "execution_count": 2,
   "id": "cd858576",
   "metadata": {},
   "outputs": [],
   "source": [
    "#read in data\n",
    "\n",
    "df=pd.read_csv('TikTok_songs_2022.csv')"
   ]
  },
  {
   "cell_type": "code",
   "execution_count": 3,
   "id": "9bfb08b5",
   "metadata": {},
   "outputs": [
    {
     "data": {
      "text/html": [
       "<div>\n",
       "<style scoped>\n",
       "    .dataframe tbody tr th:only-of-type {\n",
       "        vertical-align: middle;\n",
       "    }\n",
       "\n",
       "    .dataframe tbody tr th {\n",
       "        vertical-align: top;\n",
       "    }\n",
       "\n",
       "    .dataframe thead th {\n",
       "        text-align: right;\n",
       "    }\n",
       "</style>\n",
       "<table border=\"1\" class=\"dataframe\">\n",
       "  <thead>\n",
       "    <tr style=\"text-align: right;\">\n",
       "      <th></th>\n",
       "      <th>track_name</th>\n",
       "      <th>artist_name</th>\n",
       "      <th>artist_pop</th>\n",
       "      <th>album</th>\n",
       "      <th>track_pop</th>\n",
       "      <th>danceability</th>\n",
       "      <th>energy</th>\n",
       "      <th>loudness</th>\n",
       "      <th>mode</th>\n",
       "      <th>key</th>\n",
       "      <th>speechiness</th>\n",
       "      <th>acousticness</th>\n",
       "      <th>instrumentalness</th>\n",
       "      <th>liveness</th>\n",
       "      <th>valence</th>\n",
       "      <th>tempo</th>\n",
       "      <th>time_signature</th>\n",
       "      <th>duration_ms</th>\n",
       "    </tr>\n",
       "  </thead>\n",
       "  <tbody>\n",
       "    <tr>\n",
       "      <th>0</th>\n",
       "      <td>Running Up That Hill (A Deal With God)</td>\n",
       "      <td>Kate Bush</td>\n",
       "      <td>81</td>\n",
       "      <td>Hounds Of Love</td>\n",
       "      <td>95</td>\n",
       "      <td>0.629</td>\n",
       "      <td>0.547</td>\n",
       "      <td>-13.123</td>\n",
       "      <td>0</td>\n",
       "      <td>10</td>\n",
       "      <td>0.0550</td>\n",
       "      <td>0.7200</td>\n",
       "      <td>0.003140</td>\n",
       "      <td>0.0604</td>\n",
       "      <td>0.197</td>\n",
       "      <td>108.375</td>\n",
       "      <td>4</td>\n",
       "      <td>298933</td>\n",
       "    </tr>\n",
       "    <tr>\n",
       "      <th>1</th>\n",
       "      <td>As It Was</td>\n",
       "      <td>Harry Styles</td>\n",
       "      <td>91</td>\n",
       "      <td>As It Was</td>\n",
       "      <td>96</td>\n",
       "      <td>0.520</td>\n",
       "      <td>0.731</td>\n",
       "      <td>-5.338</td>\n",
       "      <td>0</td>\n",
       "      <td>6</td>\n",
       "      <td>0.0557</td>\n",
       "      <td>0.3420</td>\n",
       "      <td>0.001010</td>\n",
       "      <td>0.3110</td>\n",
       "      <td>0.662</td>\n",
       "      <td>173.930</td>\n",
       "      <td>4</td>\n",
       "      <td>167303</td>\n",
       "    </tr>\n",
       "    <tr>\n",
       "      <th>2</th>\n",
       "      <td>Sunroof</td>\n",
       "      <td>Nicky Youre</td>\n",
       "      <td>73</td>\n",
       "      <td>Sunroof</td>\n",
       "      <td>44</td>\n",
       "      <td>0.768</td>\n",
       "      <td>0.716</td>\n",
       "      <td>-5.110</td>\n",
       "      <td>1</td>\n",
       "      <td>10</td>\n",
       "      <td>0.0404</td>\n",
       "      <td>0.3500</td>\n",
       "      <td>0.000000</td>\n",
       "      <td>0.1500</td>\n",
       "      <td>0.841</td>\n",
       "      <td>131.430</td>\n",
       "      <td>4</td>\n",
       "      <td>163026</td>\n",
       "    </tr>\n",
       "    <tr>\n",
       "      <th>3</th>\n",
       "      <td>Heat Waves</td>\n",
       "      <td>Glass Animals</td>\n",
       "      <td>80</td>\n",
       "      <td>Dreamland (+ Bonus Levels)</td>\n",
       "      <td>89</td>\n",
       "      <td>0.761</td>\n",
       "      <td>0.525</td>\n",
       "      <td>-6.900</td>\n",
       "      <td>1</td>\n",
       "      <td>11</td>\n",
       "      <td>0.0944</td>\n",
       "      <td>0.4400</td>\n",
       "      <td>0.000007</td>\n",
       "      <td>0.0921</td>\n",
       "      <td>0.531</td>\n",
       "      <td>80.870</td>\n",
       "      <td>4</td>\n",
       "      <td>238805</td>\n",
       "    </tr>\n",
       "    <tr>\n",
       "      <th>4</th>\n",
       "      <td>About Damn Time</td>\n",
       "      <td>Lizzo</td>\n",
       "      <td>81</td>\n",
       "      <td>About Damn Time</td>\n",
       "      <td>92</td>\n",
       "      <td>0.836</td>\n",
       "      <td>0.743</td>\n",
       "      <td>-6.305</td>\n",
       "      <td>0</td>\n",
       "      <td>10</td>\n",
       "      <td>0.0656</td>\n",
       "      <td>0.0995</td>\n",
       "      <td>0.000000</td>\n",
       "      <td>0.3350</td>\n",
       "      <td>0.722</td>\n",
       "      <td>108.966</td>\n",
       "      <td>4</td>\n",
       "      <td>191822</td>\n",
       "    </tr>\n",
       "  </tbody>\n",
       "</table>\n",
       "</div>"
      ],
      "text/plain": [
       "                               track_name    artist_name  artist_pop  \\\n",
       "0  Running Up That Hill (A Deal With God)      Kate Bush          81   \n",
       "1                               As It Was   Harry Styles          91   \n",
       "2                                 Sunroof    Nicky Youre          73   \n",
       "3                              Heat Waves  Glass Animals          80   \n",
       "4                         About Damn Time          Lizzo          81   \n",
       "\n",
       "                        album  track_pop  danceability  energy  loudness  \\\n",
       "0              Hounds Of Love         95         0.629   0.547   -13.123   \n",
       "1                   As It Was         96         0.520   0.731    -5.338   \n",
       "2                     Sunroof         44         0.768   0.716    -5.110   \n",
       "3  Dreamland (+ Bonus Levels)         89         0.761   0.525    -6.900   \n",
       "4             About Damn Time         92         0.836   0.743    -6.305   \n",
       "\n",
       "   mode  key  speechiness  acousticness  instrumentalness  liveness  valence  \\\n",
       "0     0   10       0.0550        0.7200          0.003140    0.0604    0.197   \n",
       "1     0    6       0.0557        0.3420          0.001010    0.3110    0.662   \n",
       "2     1   10       0.0404        0.3500          0.000000    0.1500    0.841   \n",
       "3     1   11       0.0944        0.4400          0.000007    0.0921    0.531   \n",
       "4     0   10       0.0656        0.0995          0.000000    0.3350    0.722   \n",
       "\n",
       "     tempo  time_signature  duration_ms  \n",
       "0  108.375               4       298933  \n",
       "1  173.930               4       167303  \n",
       "2  131.430               4       163026  \n",
       "3   80.870               4       238805  \n",
       "4  108.966               4       191822  "
      ]
     },
     "execution_count": 3,
     "metadata": {},
     "output_type": "execute_result"
    }
   ],
   "source": [
    "#preview data\n",
    "\n",
    "df.head()"
   ]
  },
  {
   "cell_type": "markdown",
   "id": "58e0cb75",
   "metadata": {},
   "source": [
    "# Preprocessing "
   ]
  },
  {
   "cell_type": "code",
   "execution_count": 5,
   "id": "9023d819",
   "metadata": {
    "scrolled": true
   },
   "outputs": [
    {
     "data": {
      "text/html": [
       "<div>\n",
       "<style scoped>\n",
       "    .dataframe tbody tr th:only-of-type {\n",
       "        vertical-align: middle;\n",
       "    }\n",
       "\n",
       "    .dataframe tbody tr th {\n",
       "        vertical-align: top;\n",
       "    }\n",
       "\n",
       "    .dataframe thead th {\n",
       "        text-align: right;\n",
       "    }\n",
       "</style>\n",
       "<table border=\"1\" class=\"dataframe\">\n",
       "  <thead>\n",
       "    <tr style=\"text-align: right;\">\n",
       "      <th></th>\n",
       "      <th>artist_pop</th>\n",
       "      <th>track_pop</th>\n",
       "      <th>danceability</th>\n",
       "      <th>energy</th>\n",
       "      <th>loudness</th>\n",
       "      <th>mode</th>\n",
       "      <th>key</th>\n",
       "      <th>speechiness</th>\n",
       "      <th>acousticness</th>\n",
       "      <th>instrumentalness</th>\n",
       "      <th>liveness</th>\n",
       "      <th>valence</th>\n",
       "      <th>tempo</th>\n",
       "      <th>time_signature</th>\n",
       "      <th>duration_ms</th>\n",
       "    </tr>\n",
       "  </thead>\n",
       "  <tbody>\n",
       "    <tr>\n",
       "      <th>count</th>\n",
       "      <td>263.000000</td>\n",
       "      <td>263.000000</td>\n",
       "      <td>263.000000</td>\n",
       "      <td>263.000000</td>\n",
       "      <td>263.000000</td>\n",
       "      <td>263.000000</td>\n",
       "      <td>263.000000</td>\n",
       "      <td>263.000000</td>\n",
       "      <td>263.000000</td>\n",
       "      <td>263.000000</td>\n",
       "      <td>263.000000</td>\n",
       "      <td>263.000000</td>\n",
       "      <td>263.000000</td>\n",
       "      <td>263.000000</td>\n",
       "      <td>263.000000</td>\n",
       "    </tr>\n",
       "    <tr>\n",
       "      <th>mean</th>\n",
       "      <td>64.186312</td>\n",
       "      <td>59.844106</td>\n",
       "      <td>0.715338</td>\n",
       "      <td>0.682631</td>\n",
       "      <td>-6.300513</td>\n",
       "      <td>0.536122</td>\n",
       "      <td>5.809886</td>\n",
       "      <td>0.117268</td>\n",
       "      <td>0.193188</td>\n",
       "      <td>0.020244</td>\n",
       "      <td>0.202562</td>\n",
       "      <td>0.506149</td>\n",
       "      <td>122.883696</td>\n",
       "      <td>3.969582</td>\n",
       "      <td>174656.212928</td>\n",
       "    </tr>\n",
       "    <tr>\n",
       "      <th>std</th>\n",
       "      <td>18.146338</td>\n",
       "      <td>24.976524</td>\n",
       "      <td>0.117722</td>\n",
       "      <td>0.141756</td>\n",
       "      <td>1.905114</td>\n",
       "      <td>0.499644</td>\n",
       "      <td>3.657312</td>\n",
       "      <td>0.101417</td>\n",
       "      <td>0.214588</td>\n",
       "      <td>0.109370</td>\n",
       "      <td>0.151808</td>\n",
       "      <td>0.220757</td>\n",
       "      <td>24.396686</td>\n",
       "      <td>0.288168</td>\n",
       "      <td>34785.125564</td>\n",
       "    </tr>\n",
       "    <tr>\n",
       "      <th>min</th>\n",
       "      <td>18.000000</td>\n",
       "      <td>0.000000</td>\n",
       "      <td>0.308000</td>\n",
       "      <td>0.214000</td>\n",
       "      <td>-13.468000</td>\n",
       "      <td>0.000000</td>\n",
       "      <td>0.000000</td>\n",
       "      <td>0.025200</td>\n",
       "      <td>0.000038</td>\n",
       "      <td>0.000000</td>\n",
       "      <td>0.026500</td>\n",
       "      <td>0.036300</td>\n",
       "      <td>62.948000</td>\n",
       "      <td>1.000000</td>\n",
       "      <td>85742.000000</td>\n",
       "    </tr>\n",
       "    <tr>\n",
       "      <th>25%</th>\n",
       "      <td>50.000000</td>\n",
       "      <td>47.000000</td>\n",
       "      <td>0.646000</td>\n",
       "      <td>0.593000</td>\n",
       "      <td>-7.423500</td>\n",
       "      <td>0.000000</td>\n",
       "      <td>2.000000</td>\n",
       "      <td>0.044750</td>\n",
       "      <td>0.028100</td>\n",
       "      <td>0.000000</td>\n",
       "      <td>0.094350</td>\n",
       "      <td>0.349000</td>\n",
       "      <td>106.850500</td>\n",
       "      <td>4.000000</td>\n",
       "      <td>148646.000000</td>\n",
       "    </tr>\n",
       "    <tr>\n",
       "      <th>50%</th>\n",
       "      <td>64.000000</td>\n",
       "      <td>66.000000</td>\n",
       "      <td>0.726000</td>\n",
       "      <td>0.701000</td>\n",
       "      <td>-6.067000</td>\n",
       "      <td>1.000000</td>\n",
       "      <td>6.000000</td>\n",
       "      <td>0.070700</td>\n",
       "      <td>0.120000</td>\n",
       "      <td>0.000003</td>\n",
       "      <td>0.132000</td>\n",
       "      <td>0.485000</td>\n",
       "      <td>123.056000</td>\n",
       "      <td>4.000000</td>\n",
       "      <td>171028.000000</td>\n",
       "    </tr>\n",
       "    <tr>\n",
       "      <th>75%</th>\n",
       "      <td>81.000000</td>\n",
       "      <td>79.500000</td>\n",
       "      <td>0.796500</td>\n",
       "      <td>0.790500</td>\n",
       "      <td>-4.887000</td>\n",
       "      <td>1.000000</td>\n",
       "      <td>9.000000</td>\n",
       "      <td>0.156000</td>\n",
       "      <td>0.298500</td>\n",
       "      <td>0.000334</td>\n",
       "      <td>0.277500</td>\n",
       "      <td>0.680000</td>\n",
       "      <td>130.004500</td>\n",
       "      <td>4.000000</td>\n",
       "      <td>199047.000000</td>\n",
       "    </tr>\n",
       "    <tr>\n",
       "      <th>max</th>\n",
       "      <td>95.000000</td>\n",
       "      <td>97.000000</td>\n",
       "      <td>0.961000</td>\n",
       "      <td>0.955000</td>\n",
       "      <td>-2.634000</td>\n",
       "      <td>1.000000</td>\n",
       "      <td>11.000000</td>\n",
       "      <td>0.481000</td>\n",
       "      <td>0.965000</td>\n",
       "      <td>0.939000</td>\n",
       "      <td>0.790000</td>\n",
       "      <td>0.956000</td>\n",
       "      <td>187.906000</td>\n",
       "      <td>5.000000</td>\n",
       "      <td>298933.000000</td>\n",
       "    </tr>\n",
       "  </tbody>\n",
       "</table>\n",
       "</div>"
      ],
      "text/plain": [
       "       artist_pop   track_pop  danceability      energy    loudness  \\\n",
       "count  263.000000  263.000000    263.000000  263.000000  263.000000   \n",
       "mean    64.186312   59.844106      0.715338    0.682631   -6.300513   \n",
       "std     18.146338   24.976524      0.117722    0.141756    1.905114   \n",
       "min     18.000000    0.000000      0.308000    0.214000  -13.468000   \n",
       "25%     50.000000   47.000000      0.646000    0.593000   -7.423500   \n",
       "50%     64.000000   66.000000      0.726000    0.701000   -6.067000   \n",
       "75%     81.000000   79.500000      0.796500    0.790500   -4.887000   \n",
       "max     95.000000   97.000000      0.961000    0.955000   -2.634000   \n",
       "\n",
       "             mode         key  speechiness  acousticness  instrumentalness  \\\n",
       "count  263.000000  263.000000   263.000000    263.000000        263.000000   \n",
       "mean     0.536122    5.809886     0.117268      0.193188          0.020244   \n",
       "std      0.499644    3.657312     0.101417      0.214588          0.109370   \n",
       "min      0.000000    0.000000     0.025200      0.000038          0.000000   \n",
       "25%      0.000000    2.000000     0.044750      0.028100          0.000000   \n",
       "50%      1.000000    6.000000     0.070700      0.120000          0.000003   \n",
       "75%      1.000000    9.000000     0.156000      0.298500          0.000334   \n",
       "max      1.000000   11.000000     0.481000      0.965000          0.939000   \n",
       "\n",
       "         liveness     valence       tempo  time_signature    duration_ms  \n",
       "count  263.000000  263.000000  263.000000      263.000000     263.000000  \n",
       "mean     0.202562    0.506149  122.883696        3.969582  174656.212928  \n",
       "std      0.151808    0.220757   24.396686        0.288168   34785.125564  \n",
       "min      0.026500    0.036300   62.948000        1.000000   85742.000000  \n",
       "25%      0.094350    0.349000  106.850500        4.000000  148646.000000  \n",
       "50%      0.132000    0.485000  123.056000        4.000000  171028.000000  \n",
       "75%      0.277500    0.680000  130.004500        4.000000  199047.000000  \n",
       "max      0.790000    0.956000  187.906000        5.000000  298933.000000  "
      ]
     },
     "execution_count": 5,
     "metadata": {},
     "output_type": "execute_result"
    }
   ],
   "source": [
    "#summary statistics\n",
    "\n",
    "df.describe()"
   ]
  },
  {
   "cell_type": "code",
   "execution_count": 98,
   "id": "85d2bb5f",
   "metadata": {},
   "outputs": [],
   "source": [
    "#Labeling data into X and Y\n",
    "\n",
    "X=df.drop('track_pop', axis=1)\n",
    "Y=df['track_pop']"
   ]
  },
  {
   "cell_type": "code",
   "execution_count": 268,
   "id": "2b72e4a9",
   "metadata": {},
   "outputs": [],
   "source": [
    "#splitting data into training and testing \n",
    "#doing a small test set due to small amount of data\n",
    "\n",
    "x_train, x_test, y_train, y_test = train_test_split(X, Y, test_size=.15, random_state=41)"
   ]
  },
  {
   "cell_type": "code",
   "execution_count": 269,
   "id": "aabc46cc",
   "metadata": {},
   "outputs": [],
   "source": [
    "#get only numerical columns for modeling\n",
    "\n",
    "x_train2=x_train[x_train.columns.difference(['track_name', 'artist_name','album'])]\n",
    "x_test2=x_test[x_test.columns.difference(['track_name', 'artist_name','album'])]"
   ]
  },
  {
   "cell_type": "markdown",
   "id": "27b79095",
   "metadata": {},
   "source": [
    "# Feature Selection"
   ]
  },
  {
   "cell_type": "code",
   "execution_count": 270,
   "id": "e9db4eee",
   "metadata": {},
   "outputs": [],
   "source": [
    "#recursive feature elimination to further narrow down variables \n",
    "\n",
    "# create pipeline\n",
    "rfe = RFECV(estimator=DecisionTreeClassifier())\n",
    "model = DecisionTreeClassifier()\n",
    "pipeline = Pipeline(steps=[('s',rfe),('m',model)])"
   ]
  },
  {
   "cell_type": "code",
   "execution_count": 271,
   "id": "abcaaad1",
   "metadata": {},
   "outputs": [
    {
     "name": "stderr",
     "output_type": "stream",
     "text": [
      "/Users/sarahrussell/opt/anaconda3/lib/python3.8/site-packages/sklearn/model_selection/_split.py:666: UserWarning: The least populated class in y has only 1 members, which is less than n_splits=5.\n",
      "  warnings.warn((\"The least populated class in y has only %d\"\n"
     ]
    },
    {
     "name": "stdout",
     "output_type": "stream",
     "text": [
      "Column: acousticness, Selected True, Rank: 1.000\n",
      "Column: artist_pop, Selected True, Rank: 1.000\n",
      "Column: danceability, Selected True, Rank: 1.000\n",
      "Column: duration_ms, Selected False, Rank: 2.000\n",
      "Column: energy, Selected True, Rank: 1.000\n",
      "Column: instrumentalness, Selected False, Rank: 5.000\n",
      "Column: key, Selected False, Rank: 3.000\n",
      "Column: liveness, Selected True, Rank: 1.000\n",
      "Column: loudness, Selected True, Rank: 1.000\n",
      "Column: mode, Selected False, Rank: 4.000\n",
      "Column: speechiness, Selected True, Rank: 1.000\n",
      "Column: tempo, Selected True, Rank: 1.000\n",
      "Column: time_signature, Selected False, Rank: 6.000\n",
      "Column: valence, Selected True, Rank: 1.000\n"
     ]
    }
   ],
   "source": [
    "# fit RFE\n",
    "\n",
    "rfe.fit(x_train2, y_train)\n",
    "# summarize all features\n",
    "for i in range(x_train2.shape[1]):\n",
    "    print('Column: %s, Selected %s, Rank: %.3f' % (list(x_train2.columns)[i], rfe.support_[i], rfe.ranking_[i]))"
   ]
  },
  {
   "cell_type": "code",
   "execution_count": 272,
   "id": "4a8489c1",
   "metadata": {},
   "outputs": [],
   "source": [
    "# keep variables where selected =true\n",
    "\n",
    "var_list=[]\n",
    "\n",
    "for i in range(x_train2.shape[1]):\n",
    "    if rfe.support_[i]==True:\n",
    "        var_list.append(list(x_train2.columns)[i])\n",
    "    else: continue\n",
    "    \n",
    "x_train_2=x_train2[var_list]\n",
    "x_test_2=x_test2[var_list]"
   ]
  },
  {
   "cell_type": "code",
   "execution_count": 273,
   "id": "124e7aaf",
   "metadata": {},
   "outputs": [
    {
     "data": {
      "text/html": [
       "<div>\n",
       "<style scoped>\n",
       "    .dataframe tbody tr th:only-of-type {\n",
       "        vertical-align: middle;\n",
       "    }\n",
       "\n",
       "    .dataframe tbody tr th {\n",
       "        vertical-align: top;\n",
       "    }\n",
       "\n",
       "    .dataframe thead th {\n",
       "        text-align: right;\n",
       "    }\n",
       "</style>\n",
       "<table border=\"1\" class=\"dataframe\">\n",
       "  <thead>\n",
       "    <tr style=\"text-align: right;\">\n",
       "      <th></th>\n",
       "      <th>acousticness</th>\n",
       "      <th>artist_pop</th>\n",
       "      <th>danceability</th>\n",
       "      <th>energy</th>\n",
       "      <th>liveness</th>\n",
       "      <th>loudness</th>\n",
       "      <th>speechiness</th>\n",
       "      <th>tempo</th>\n",
       "      <th>valence</th>\n",
       "    </tr>\n",
       "  </thead>\n",
       "  <tbody>\n",
       "    <tr>\n",
       "      <th>260</th>\n",
       "      <td>0.000307</td>\n",
       "      <td>95</td>\n",
       "      <td>0.529</td>\n",
       "      <td>0.673</td>\n",
       "      <td>0.093</td>\n",
       "      <td>-4.711</td>\n",
       "      <td>0.1750</td>\n",
       "      <td>165.921</td>\n",
       "      <td>0.366</td>\n",
       "    </tr>\n",
       "    <tr>\n",
       "      <th>206</th>\n",
       "      <td>0.435000</td>\n",
       "      <td>58</td>\n",
       "      <td>0.826</td>\n",
       "      <td>0.615</td>\n",
       "      <td>0.334</td>\n",
       "      <td>-4.729</td>\n",
       "      <td>0.1370</td>\n",
       "      <td>102.999</td>\n",
       "      <td>0.841</td>\n",
       "    </tr>\n",
       "    <tr>\n",
       "      <th>46</th>\n",
       "      <td>0.329000</td>\n",
       "      <td>41</td>\n",
       "      <td>0.776</td>\n",
       "      <td>0.656</td>\n",
       "      <td>0.119</td>\n",
       "      <td>-8.921</td>\n",
       "      <td>0.1300</td>\n",
       "      <td>148.950</td>\n",
       "      <td>0.649</td>\n",
       "    </tr>\n",
       "    <tr>\n",
       "      <th>57</th>\n",
       "      <td>0.032100</td>\n",
       "      <td>64</td>\n",
       "      <td>0.579</td>\n",
       "      <td>0.727</td>\n",
       "      <td>0.714</td>\n",
       "      <td>-5.149</td>\n",
       "      <td>0.0399</td>\n",
       "      <td>124.090</td>\n",
       "      <td>0.246</td>\n",
       "    </tr>\n",
       "    <tr>\n",
       "      <th>117</th>\n",
       "      <td>0.090500</td>\n",
       "      <td>35</td>\n",
       "      <td>0.552</td>\n",
       "      <td>0.831</td>\n",
       "      <td>0.440</td>\n",
       "      <td>-7.228</td>\n",
       "      <td>0.1940</td>\n",
       "      <td>127.851</td>\n",
       "      <td>0.733</td>\n",
       "    </tr>\n",
       "  </tbody>\n",
       "</table>\n",
       "</div>"
      ],
      "text/plain": [
       "     acousticness  artist_pop  danceability  energy  liveness  loudness  \\\n",
       "260      0.000307          95         0.529   0.673     0.093    -4.711   \n",
       "206      0.435000          58         0.826   0.615     0.334    -4.729   \n",
       "46       0.329000          41         0.776   0.656     0.119    -8.921   \n",
       "57       0.032100          64         0.579   0.727     0.714    -5.149   \n",
       "117      0.090500          35         0.552   0.831     0.440    -7.228   \n",
       "\n",
       "     speechiness    tempo  valence  \n",
       "260       0.1750  165.921    0.366  \n",
       "206       0.1370  102.999    0.841  \n",
       "46        0.1300  148.950    0.649  \n",
       "57        0.0399  124.090    0.246  \n",
       "117       0.1940  127.851    0.733  "
      ]
     },
     "execution_count": 273,
     "metadata": {},
     "output_type": "execute_result"
    }
   ],
   "source": [
    "#preview final training set and final variables\n",
    "x_train_2.head()"
   ]
  },
  {
   "cell_type": "code",
   "execution_count": 274,
   "id": "35829a86",
   "metadata": {},
   "outputs": [],
   "source": [
    "#scale data for modeling\n",
    "\n",
    "# define standard scaler\n",
    "scaler = StandardScaler()\n",
    "\n",
    "#scale data\n",
    "x_train2_scaled= scaler.fit_transform(x_train_2)\n",
    "x_test2_scaled= scaler.fit_transform(x_test_2)\n",
    "y_train_scaled= scaler.fit_transform(np.array(y_train).reshape(-1,1))\n",
    "y_test_scaled= scaler.fit_transform(np.array(y_test).reshape(-1,1))"
   ]
  },
  {
   "cell_type": "markdown",
   "id": "99ebd912",
   "metadata": {},
   "source": [
    "# Linear Regression"
   ]
  },
  {
   "cell_type": "code",
   "execution_count": 279,
   "id": "f6238aa8",
   "metadata": {},
   "outputs": [
    {
     "data": {
      "text/plain": [
       "LinearRegression()"
      ]
     },
     "execution_count": 279,
     "metadata": {},
     "output_type": "execute_result"
    }
   ],
   "source": [
    "lr = linear_model.LinearRegression()\n",
    "lr.fit(x_train2_scaled, y_train_scaled)"
   ]
  },
  {
   "cell_type": "code",
   "execution_count": 280,
   "id": "22ee9f64",
   "metadata": {},
   "outputs": [
    {
     "data": {
      "text/plain": [
       "0.2722554414308368"
      ]
     },
     "execution_count": 280,
     "metadata": {},
     "output_type": "execute_result"
    }
   ],
   "source": [
    "r_sq = lr.score(x_train2_scaled, y_train_scaled)\n",
    "lr.score(x_train2_scaled, y_train_scaled)"
   ]
  },
  {
   "cell_type": "code",
   "execution_count": 281,
   "id": "bc1e6885",
   "metadata": {},
   "outputs": [
    {
     "data": {
      "text/plain": [
       "0.4147521810158823"
      ]
     },
     "execution_count": 281,
     "metadata": {},
     "output_type": "execute_result"
    }
   ],
   "source": [
    "#accuracy on test\n",
    "\n",
    "lr.score(x_test2_scaled, y_test_scaled)"
   ]
  },
  {
   "cell_type": "code",
   "execution_count": 282,
   "id": "fc2b2851",
   "metadata": {},
   "outputs": [],
   "source": [
    "#not great lets move on"
   ]
  },
  {
   "cell_type": "markdown",
   "id": "b1077d31",
   "metadata": {},
   "source": [
    "# Random Forest"
   ]
  },
  {
   "cell_type": "code",
   "execution_count": 301,
   "id": "698d7450",
   "metadata": {},
   "outputs": [
    {
     "name": "stderr",
     "output_type": "stream",
     "text": [
      "<ipython-input-301-64241206b6f9>:3: DataConversionWarning: A column-vector y was passed when a 1d array was expected. Please change the shape of y to (n_samples,), for example using ravel().\n",
      "  rf.fit(x_train2_scaled, y_train_scaled)\n"
     ]
    },
    {
     "data": {
      "text/plain": [
       "RandomForestRegressor(max_depth=3, random_state=0)"
      ]
     },
     "execution_count": 301,
     "metadata": {},
     "output_type": "execute_result"
    }
   ],
   "source": [
    "rf = RandomForestRegressor(max_depth=3, random_state=0,\n",
    "                          n_estimators=100)\n",
    "rf.fit(x_train2_scaled, y_train_scaled)"
   ]
  },
  {
   "cell_type": "code",
   "execution_count": 302,
   "id": "2b5d32cf",
   "metadata": {},
   "outputs": [
    {
     "data": {
      "text/plain": [
       "0.516607198221927"
      ]
     },
     "execution_count": 302,
     "metadata": {},
     "output_type": "execute_result"
    }
   ],
   "source": [
    "rf.score(x_train2_scaled, y_train_scaled)"
   ]
  },
  {
   "cell_type": "code",
   "execution_count": 303,
   "id": "8d5716c8",
   "metadata": {},
   "outputs": [
    {
     "data": {
      "text/plain": [
       "0.3959378728315366"
      ]
     },
     "execution_count": 303,
     "metadata": {},
     "output_type": "execute_result"
    }
   ],
   "source": [
    "rf.score(x_test2_scaled, y_test_scaled)"
   ]
  },
  {
   "cell_type": "code",
   "execution_count": 304,
   "id": "adc72810",
   "metadata": {},
   "outputs": [],
   "source": [
    "#still not great after hyperparameter tuning, let's move on"
   ]
  },
  {
   "cell_type": "markdown",
   "id": "90f7e7f3",
   "metadata": {},
   "source": [
    "# Gradient Boosting"
   ]
  },
  {
   "cell_type": "code",
   "execution_count": 318,
   "id": "bb855cab",
   "metadata": {},
   "outputs": [
    {
     "name": "stderr",
     "output_type": "stream",
     "text": [
      "/Users/sarahrussell/opt/anaconda3/lib/python3.8/site-packages/sklearn/utils/validation.py:63: DataConversionWarning: A column-vector y was passed when a 1d array was expected. Please change the shape of y to (n_samples, ), for example using ravel().\n",
      "  return f(*args, **kwargs)\n"
     ]
    },
    {
     "data": {
      "text/plain": [
       "GradientBoostingRegressor(n_estimators=50, random_state=0, subsample=0.6)"
      ]
     },
     "execution_count": 318,
     "metadata": {},
     "output_type": "execute_result"
    }
   ],
   "source": [
    "gb = GradientBoostingRegressor(random_state=0, subsample=.6,\n",
    "                              n_estimators=50, learning_rate=.1)\n",
    "gb.fit(x_train2_scaled, y_train_scaled)"
   ]
  },
  {
   "cell_type": "code",
   "execution_count": 319,
   "id": "3903a6a3",
   "metadata": {},
   "outputs": [
    {
     "data": {
      "text/plain": [
       "0.7744916996583533"
      ]
     },
     "execution_count": 319,
     "metadata": {},
     "output_type": "execute_result"
    }
   ],
   "source": [
    "gb.score(x_train2_scaled, y_train_scaled)"
   ]
  },
  {
   "cell_type": "code",
   "execution_count": 320,
   "id": "265e1d6e",
   "metadata": {},
   "outputs": [
    {
     "data": {
      "text/plain": [
       "0.3036691102365856"
      ]
     },
     "execution_count": 320,
     "metadata": {},
     "output_type": "execute_result"
    }
   ],
   "source": [
    "gb.score(x_test2_scaled, y_test_scaled)"
   ]
  },
  {
   "cell_type": "code",
   "execution_count": 321,
   "id": "9f2dd935",
   "metadata": {},
   "outputs": [],
   "source": [
    "#overfitting after adjusting hyperparamets so moving on"
   ]
  },
  {
   "cell_type": "markdown",
   "id": "8a36648a",
   "metadata": {},
   "source": [
    "# Lasso Regression"
   ]
  },
  {
   "cell_type": "code",
   "execution_count": 322,
   "id": "febeb30a",
   "metadata": {},
   "outputs": [
    {
     "data": {
      "text/plain": [
       "Lasso(alpha=0.1)"
      ]
     },
     "execution_count": 322,
     "metadata": {},
     "output_type": "execute_result"
    }
   ],
   "source": [
    "clf = linear_model.Lasso(alpha=0.1)\n",
    "clf.fit(x_train2_scaled, y_train_scaled)"
   ]
  },
  {
   "cell_type": "code",
   "execution_count": 323,
   "id": "0ddd9a01",
   "metadata": {},
   "outputs": [
    {
     "data": {
      "text/plain": [
       "0.24422525405702833"
      ]
     },
     "execution_count": 323,
     "metadata": {},
     "output_type": "execute_result"
    }
   ],
   "source": [
    "clf.score(x_train2_scaled, y_train_scaled)"
   ]
  },
  {
   "cell_type": "code",
   "execution_count": 324,
   "id": "6ee59d18",
   "metadata": {},
   "outputs": [
    {
     "data": {
      "text/plain": [
       "0.37999068751212595"
      ]
     },
     "execution_count": 324,
     "metadata": {},
     "output_type": "execute_result"
    }
   ],
   "source": [
    "clf.score(x_test2_scaled, y_test_scaled)"
   ]
  },
  {
   "cell_type": "markdown",
   "id": "3811fb19",
   "metadata": {},
   "source": [
    "# Neural Network"
   ]
  },
  {
   "cell_type": "code",
   "execution_count": 325,
   "id": "9eb720c4",
   "metadata": {},
   "outputs": [
    {
     "data": {
      "text/plain": [
       "(223, 9)"
      ]
     },
     "execution_count": 325,
     "metadata": {},
     "output_type": "execute_result"
    }
   ],
   "source": [
    "x_train2_scaled.shape"
   ]
  },
  {
   "cell_type": "code",
   "execution_count": 329,
   "id": "152b88eb",
   "metadata": {},
   "outputs": [],
   "source": [
    "# define base model\n",
    "def nn_model():\n",
    "    seq = Sequential()\n",
    "    seq.add(Dense(9, input_shape=(9,), kernel_initializer='normal', activation='relu'))\n",
    "    seq.add(Dense(1, kernel_initializer='normal'))\n",
    "    # Compile model\n",
    "    seq.compile(loss='mean_squared_error', optimizer='adam')\n",
    "    return seq"
   ]
  },
  {
   "cell_type": "code",
   "execution_count": 330,
   "id": "baa5f720",
   "metadata": {},
   "outputs": [],
   "source": [
    "# evaluate model\n",
    "estimator = KerasRegressor(model=nn_model, epochs=100, batch_size=5, verbose=0)\n",
    "kfold = KFold(n_splits=10)\n",
    "\n",
    "results = cross_val_score(estimator, x_train2_scaled, y_train_scaled, cv=kfold, scoring='neg_mean_squared_error')"
   ]
  },
  {
   "cell_type": "code",
   "execution_count": 331,
   "id": "85388bec",
   "metadata": {},
   "outputs": [
    {
     "data": {
      "text/plain": [
       "-0.9127675971836979"
      ]
     },
     "execution_count": 331,
     "metadata": {},
     "output_type": "execute_result"
    }
   ],
   "source": [
    "results.mean()"
   ]
  },
  {
   "cell_type": "code",
   "execution_count": 332,
   "id": "ed121b1f",
   "metadata": {
    "scrolled": true
   },
   "outputs": [
    {
     "data": {
      "text/plain": [
       "KerasRegressor(\n",
       "\tmodel=<function nn_model at 0x7f8788383af0>\n",
       "\tbuild_fn=None\n",
       "\twarm_start=False\n",
       "\trandom_state=None\n",
       "\toptimizer=rmsprop\n",
       "\tloss=None\n",
       "\tmetrics=None\n",
       "\tbatch_size=5\n",
       "\tvalidation_batch_size=None\n",
       "\tverbose=0\n",
       "\tcallbacks=None\n",
       "\tvalidation_split=0.0\n",
       "\tshuffle=True\n",
       "\trun_eagerly=False\n",
       "\tepochs=100\n",
       ")"
      ]
     },
     "execution_count": 332,
     "metadata": {},
     "output_type": "execute_result"
    }
   ],
   "source": [
    "estimator.fit(x_train2_scaled, y_train_scaled)"
   ]
  },
  {
   "cell_type": "code",
   "execution_count": null,
   "id": "75ab0388",
   "metadata": {},
   "outputs": [],
   "source": [
    "# will use keras model for predictions as other models did not do great"
   ]
  },
  {
   "cell_type": "code",
   "execution_count": 348,
   "id": "3d0226ea",
   "metadata": {},
   "outputs": [],
   "source": [
    "final=pd.DataFrame() "
   ]
  },
  {
   "cell_type": "code",
   "execution_count": 349,
   "id": "c9e8d83c",
   "metadata": {},
   "outputs": [],
   "source": [
    "predictions=list(estimator.predict(x_test2_scaled))"
   ]
  },
  {
   "cell_type": "code",
   "execution_count": 351,
   "id": "e88f2717",
   "metadata": {},
   "outputs": [],
   "source": [
    "predictions = scaler.inverse_transform(predictions)"
   ]
  },
  {
   "cell_type": "code",
   "execution_count": 352,
   "id": "bdc7b4ab",
   "metadata": {},
   "outputs": [],
   "source": [
    "final['song']=list(x_test['track_name'])\n",
    "final['predictions']=predictions\n",
    "final['actual']=list(y_test)"
   ]
  },
  {
   "cell_type": "code",
   "execution_count": 354,
   "id": "beb939dd",
   "metadata": {
    "scrolled": true
   },
   "outputs": [
    {
     "data": {
      "text/html": [
       "<div>\n",
       "<style scoped>\n",
       "    .dataframe tbody tr th:only-of-type {\n",
       "        vertical-align: middle;\n",
       "    }\n",
       "\n",
       "    .dataframe tbody tr th {\n",
       "        vertical-align: top;\n",
       "    }\n",
       "\n",
       "    .dataframe thead th {\n",
       "        text-align: right;\n",
       "    }\n",
       "</style>\n",
       "<table border=\"1\" class=\"dataframe\">\n",
       "  <thead>\n",
       "    <tr style=\"text-align: right;\">\n",
       "      <th></th>\n",
       "      <th>song</th>\n",
       "      <th>predictions</th>\n",
       "      <th>actual</th>\n",
       "    </tr>\n",
       "  </thead>\n",
       "  <tbody>\n",
       "    <tr>\n",
       "      <th>17</th>\n",
       "      <td>drivers license</td>\n",
       "      <td>89.142448</td>\n",
       "      <td>29</td>\n",
       "    </tr>\n",
       "    <tr>\n",
       "      <th>16</th>\n",
       "      <td>MIDDLE OF THE NIGHT</td>\n",
       "      <td>84.502510</td>\n",
       "      <td>91</td>\n",
       "    </tr>\n",
       "    <tr>\n",
       "      <th>26</th>\n",
       "      <td>Heat Waves</td>\n",
       "      <td>82.302177</td>\n",
       "      <td>89</td>\n",
       "    </tr>\n",
       "    <tr>\n",
       "      <th>35</th>\n",
       "      <td>Levitating (feat. DaBaby)</td>\n",
       "      <td>82.015411</td>\n",
       "      <td>85</td>\n",
       "    </tr>\n",
       "    <tr>\n",
       "      <th>33</th>\n",
       "      <td>WITHOUT YOU</td>\n",
       "      <td>81.984222</td>\n",
       "      <td>80</td>\n",
       "    </tr>\n",
       "    <tr>\n",
       "      <th>32</th>\n",
       "      <td>Savage</td>\n",
       "      <td>76.524460</td>\n",
       "      <td>70</td>\n",
       "    </tr>\n",
       "    <tr>\n",
       "      <th>23</th>\n",
       "      <td>ROCKSTAR (feat. Roddy Ricch)</td>\n",
       "      <td>76.445641</td>\n",
       "      <td>80</td>\n",
       "    </tr>\n",
       "    <tr>\n",
       "      <th>3</th>\n",
       "      <td>Sweater Weather</td>\n",
       "      <td>75.486137</td>\n",
       "      <td>90</td>\n",
       "    </tr>\n",
       "    <tr>\n",
       "      <th>39</th>\n",
       "      <td>Todo De Ti</td>\n",
       "      <td>74.529205</td>\n",
       "      <td>82</td>\n",
       "    </tr>\n",
       "    <tr>\n",
       "      <th>4</th>\n",
       "      <td>Wait a Minute!</td>\n",
       "      <td>73.346153</td>\n",
       "      <td>86</td>\n",
       "    </tr>\n",
       "    <tr>\n",
       "      <th>1</th>\n",
       "      <td>MAMIII</td>\n",
       "      <td>73.078430</td>\n",
       "      <td>87</td>\n",
       "    </tr>\n",
       "    <tr>\n",
       "      <th>8</th>\n",
       "      <td>The Motto</td>\n",
       "      <td>72.791336</td>\n",
       "      <td>87</td>\n",
       "    </tr>\n",
       "    <tr>\n",
       "      <th>28</th>\n",
       "      <td>Rover (feat. DTG)</td>\n",
       "      <td>71.624878</td>\n",
       "      <td>78</td>\n",
       "    </tr>\n",
       "    <tr>\n",
       "      <th>21</th>\n",
       "      <td>telepatía</td>\n",
       "      <td>71.310051</td>\n",
       "      <td>82</td>\n",
       "    </tr>\n",
       "    <tr>\n",
       "      <th>15</th>\n",
       "      <td>Better Days (NEIKED x Mae Muller x Polo G)</td>\n",
       "      <td>67.948067</td>\n",
       "      <td>83</td>\n",
       "    </tr>\n",
       "    <tr>\n",
       "      <th>31</th>\n",
       "      <td>First Class</td>\n",
       "      <td>66.671371</td>\n",
       "      <td>89</td>\n",
       "    </tr>\n",
       "    <tr>\n",
       "      <th>37</th>\n",
       "      <td>Wellerman - Sea Shanty / 220 KID x Billen Ted ...</td>\n",
       "      <td>64.494652</td>\n",
       "      <td>77</td>\n",
       "    </tr>\n",
       "    <tr>\n",
       "      <th>27</th>\n",
       "      <td>Supalonely</td>\n",
       "      <td>64.015747</td>\n",
       "      <td>72</td>\n",
       "    </tr>\n",
       "    <tr>\n",
       "      <th>10</th>\n",
       "      <td>Mr. Saxobeat</td>\n",
       "      <td>63.749954</td>\n",
       "      <td>43</td>\n",
       "    </tr>\n",
       "    <tr>\n",
       "      <th>18</th>\n",
       "      <td>INFERNO</td>\n",
       "      <td>61.641331</td>\n",
       "      <td>71</td>\n",
       "    </tr>\n",
       "    <tr>\n",
       "      <th>13</th>\n",
       "      <td>The Box</td>\n",
       "      <td>60.735802</td>\n",
       "      <td>81</td>\n",
       "    </tr>\n",
       "    <tr>\n",
       "      <th>38</th>\n",
       "      <td>Left and Right (Charlie Puth) [feat. Jung Kook...</td>\n",
       "      <td>60.504581</td>\n",
       "      <td>58</td>\n",
       "    </tr>\n",
       "    <tr>\n",
       "      <th>9</th>\n",
       "      <td>Astronomia</td>\n",
       "      <td>56.139744</td>\n",
       "      <td>60</td>\n",
       "    </tr>\n",
       "    <tr>\n",
       "      <th>24</th>\n",
       "      <td>The Git Up</td>\n",
       "      <td>55.344067</td>\n",
       "      <td>3</td>\n",
       "    </tr>\n",
       "    <tr>\n",
       "      <th>36</th>\n",
       "      <td>I Wanna Know</td>\n",
       "      <td>54.382202</td>\n",
       "      <td>52</td>\n",
       "    </tr>\n",
       "    <tr>\n",
       "      <th>22</th>\n",
       "      <td>Shooting Stars</td>\n",
       "      <td>54.120193</td>\n",
       "      <td>0</td>\n",
       "    </tr>\n",
       "    <tr>\n",
       "      <th>12</th>\n",
       "      <td>Oh No</td>\n",
       "      <td>51.572231</td>\n",
       "      <td>58</td>\n",
       "    </tr>\n",
       "    <tr>\n",
       "      <th>25</th>\n",
       "      <td>On My Way</td>\n",
       "      <td>51.038475</td>\n",
       "      <td>40</td>\n",
       "    </tr>\n",
       "    <tr>\n",
       "      <th>5</th>\n",
       "      <td>Pepas</td>\n",
       "      <td>50.192688</td>\n",
       "      <td>58</td>\n",
       "    </tr>\n",
       "    <tr>\n",
       "      <th>7</th>\n",
       "      <td>Demons</td>\n",
       "      <td>48.947563</td>\n",
       "      <td>56</td>\n",
       "    </tr>\n",
       "    <tr>\n",
       "      <th>19</th>\n",
       "      <td>Leap of Faith</td>\n",
       "      <td>48.763546</td>\n",
       "      <td>51</td>\n",
       "    </tr>\n",
       "    <tr>\n",
       "      <th>34</th>\n",
       "      <td>The Hills</td>\n",
       "      <td>46.698765</td>\n",
       "      <td>48</td>\n",
       "    </tr>\n",
       "    <tr>\n",
       "      <th>11</th>\n",
       "      <td>Apologize</td>\n",
       "      <td>46.138206</td>\n",
       "      <td>48</td>\n",
       "    </tr>\n",
       "    <tr>\n",
       "      <th>14</th>\n",
       "      <td>Forever</td>\n",
       "      <td>42.772881</td>\n",
       "      <td>51</td>\n",
       "    </tr>\n",
       "    <tr>\n",
       "      <th>20</th>\n",
       "      <td>Looking for Love</td>\n",
       "      <td>38.888702</td>\n",
       "      <td>0</td>\n",
       "    </tr>\n",
       "    <tr>\n",
       "      <th>30</th>\n",
       "      <td>Serenity</td>\n",
       "      <td>37.592339</td>\n",
       "      <td>46</td>\n",
       "    </tr>\n",
       "    <tr>\n",
       "      <th>29</th>\n",
       "      <td>Payphone</td>\n",
       "      <td>37.526604</td>\n",
       "      <td>45</td>\n",
       "    </tr>\n",
       "    <tr>\n",
       "      <th>2</th>\n",
       "      <td>California Dreaming</td>\n",
       "      <td>36.778133</td>\n",
       "      <td>53</td>\n",
       "    </tr>\n",
       "    <tr>\n",
       "      <th>6</th>\n",
       "      <td>Without You</td>\n",
       "      <td>35.236176</td>\n",
       "      <td>49</td>\n",
       "    </tr>\n",
       "    <tr>\n",
       "      <th>0</th>\n",
       "      <td>AMG</td>\n",
       "      <td>25.587200</td>\n",
       "      <td>0</td>\n",
       "    </tr>\n",
       "  </tbody>\n",
       "</table>\n",
       "</div>"
      ],
      "text/plain": [
       "                                                 song  predictions  actual\n",
       "17                                    drivers license    89.142448      29\n",
       "16                                MIDDLE OF THE NIGHT    84.502510      91\n",
       "26                                         Heat Waves    82.302177      89\n",
       "35                          Levitating (feat. DaBaby)    82.015411      85\n",
       "33                                        WITHOUT YOU    81.984222      80\n",
       "32                                             Savage    76.524460      70\n",
       "23                       ROCKSTAR (feat. Roddy Ricch)    76.445641      80\n",
       "3                                     Sweater Weather    75.486137      90\n",
       "39                                         Todo De Ti    74.529205      82\n",
       "4                                      Wait a Minute!    73.346153      86\n",
       "1                                              MAMIII    73.078430      87\n",
       "8                                           The Motto    72.791336      87\n",
       "28                                  Rover (feat. DTG)    71.624878      78\n",
       "21                                          telepatía    71.310051      82\n",
       "15         Better Days (NEIKED x Mae Muller x Polo G)    67.948067      83\n",
       "31                                        First Class    66.671371      89\n",
       "37  Wellerman - Sea Shanty / 220 KID x Billen Ted ...    64.494652      77\n",
       "27                                         Supalonely    64.015747      72\n",
       "10                                       Mr. Saxobeat    63.749954      43\n",
       "18                                            INFERNO    61.641331      71\n",
       "13                                            The Box    60.735802      81\n",
       "38  Left and Right (Charlie Puth) [feat. Jung Kook...    60.504581      58\n",
       "9                                          Astronomia    56.139744      60\n",
       "24                                         The Git Up    55.344067       3\n",
       "36                                       I Wanna Know    54.382202      52\n",
       "22                                     Shooting Stars    54.120193       0\n",
       "12                                              Oh No    51.572231      58\n",
       "25                                          On My Way    51.038475      40\n",
       "5                                               Pepas    50.192688      58\n",
       "7                                              Demons    48.947563      56\n",
       "19                                      Leap of Faith    48.763546      51\n",
       "34                                          The Hills    46.698765      48\n",
       "11                                          Apologize    46.138206      48\n",
       "14                                            Forever    42.772881      51\n",
       "20                                   Looking for Love    38.888702       0\n",
       "30                                           Serenity    37.592339      46\n",
       "29                                           Payphone    37.526604      45\n",
       "2                                 California Dreaming    36.778133      53\n",
       "6                                         Without You    35.236176      49\n",
       "0                                                 AMG    25.587200       0"
      ]
     },
     "execution_count": 354,
     "metadata": {},
     "output_type": "execute_result"
    }
   ],
   "source": [
    "final.sort_values('predictions', ascending=False)"
   ]
  },
  {
   "cell_type": "markdown",
   "id": "97658b37",
   "metadata": {},
   "source": [
    "# Next Steps"
   ]
  },
  {
   "cell_type": "markdown",
   "id": "7578a5f5",
   "metadata": {},
   "source": [
    "Ideally we would gather more data to train and test our model on. Additionally, more hyperparamters within each model could be looped through and tested to find the best fit for each model. It would also be good to look into 'Driver's License' to udnerstand why the Keras model got that so wrong. "
   ]
  },
  {
   "cell_type": "code",
   "execution_count": null,
   "id": "bef25ad8",
   "metadata": {},
   "outputs": [],
   "source": []
  }
 ],
 "metadata": {
  "kernelspec": {
   "display_name": "Python 3",
   "language": "python",
   "name": "python3"
  },
  "language_info": {
   "codemirror_mode": {
    "name": "ipython",
    "version": 3
   },
   "file_extension": ".py",
   "mimetype": "text/x-python",
   "name": "python",
   "nbconvert_exporter": "python",
   "pygments_lexer": "ipython3",
   "version": "3.8.8"
  }
 },
 "nbformat": 4,
 "nbformat_minor": 5
}
